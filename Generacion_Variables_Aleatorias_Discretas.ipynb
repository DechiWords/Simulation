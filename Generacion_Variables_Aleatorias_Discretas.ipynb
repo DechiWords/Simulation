{
  "nbformat": 4,
  "nbformat_minor": 0,
  "metadata": {
    "colab": {
      "name": "Generacion_Variables_Aleatorias_Discretas.ipynb",
      "provenance": [],
      "collapsed_sections": [],
      "authorship_tag": "ABX9TyPbaJdP/vqQrd+smE0mdxNe",
      "include_colab_link": true
    },
    "kernelspec": {
      "name": "python3",
      "display_name": "Python 3"
    }
  },
  "cells": [
    {
      "cell_type": "markdown",
      "metadata": {
        "id": "view-in-github",
        "colab_type": "text"
      },
      "source": [
        "<a href=\"https://colab.research.google.com/github/DechiWords/Simulation/blob/main/Generacion_Variables_Aleatorias_Discretas.ipynb\" target=\"_parent\"><img src=\"https://colab.research.google.com/assets/colab-badge.svg\" alt=\"Open In Colab\"/></a>"
      ]
    },
    {
      "cell_type": "markdown",
      "metadata": {
        "id": "ArzFaec-IdOa"
      },
      "source": [
        "#Generación de variables aleatorias discretas"
      ]
    },
    {
      "cell_type": "markdown",
      "metadata": {
        "id": "Dq8dzi6DJBJH"
      },
      "source": [
        "## Método de la transformada inversa"
      ]
    },
    {
      "cell_type": "markdown",
      "metadata": {
        "id": "zvlMwBXnJDQe"
      },
      "source": [
        "Suponga que queremos generar el valor de una variable aleatoria discreta $X$ con función de masa de probabilidad.\n",
        "\n",
        "$$P\\{X = x_j\\} = p_j,\\text{   }j = 0,1\\ldots ,\\sum_jp_j = 1$$"
      ]
    },
    {
      "cell_type": "markdown",
      "metadata": {
        "id": "HcbJTm05JYJA"
      },
      "source": [
        "Para esto, generamos un número aleatorio $U$ distribuido uniformemente en $(0,1)$ y mediante el siguiente algoritmo \n",
        "\n",
        "* Sí $U<p_0$ entonces $X = x_0$\n",
        "\n",
        "* Sí $U<p_0+p_1$ entonces $X = x_1$\n",
        "\n",
        "* $\\ldots$\n",
        "\n",
        "* Sí $U<\\sum_{i=1}^jp_i$ entonces $X = x_j$\n",
        "\n"
      ]
    },
    {
      "cell_type": "markdown",
      "metadata": {
        "id": "dCu7Bra0KRNV"
      },
      "source": [
        "**EJEMPLO**"
      ]
    },
    {
      "cell_type": "markdown",
      "metadata": {
        "id": "Thtq9OJ8KULr"
      },
      "source": [
        "Si queremos simular una variable aleatoria $X$ tal que\n",
        "\n",
        "|$$i$$|$$p_i$$|\n",
        "|--|--|\n",
        "|$$1$$|$$0.20$$|\n",
        "|$$2$$|$$0.15$$|\n",
        "|$$3$$|$$0.25$$|\n",
        "|$$4$$|$$0.40$$|\n",
        "\n"
      ]
    },
    {
      "cell_type": "markdown",
      "metadata": {
        "id": "mDIIV3-9LCMp"
      },
      "source": [
        "Notemos que, tomando como punto de partida el método anterior.\n",
        "\n",
        "Sea $U$ una variable aleatoria uniformemente distribuida entre $(0,1)$, entonces.\n",
        "\n",
        "* Sí $U<0.20$ hacemos $X = 1$\n",
        "\n",
        "* Sí $U<0.35$ hacemos $X = 2$\n",
        "\n",
        "* Sí $U<0.60$ hacemos $X = 3$\n",
        "\n",
        "* En caso de que $U \\geq 60$ entonces $X = 4$\n",
        "\n"
      ]
    },
    {
      "cell_type": "markdown",
      "metadata": {
        "id": "oVrIZyarQk3O"
      },
      "source": [
        "*NOTA* "
      ]
    },
    {
      "cell_type": "markdown",
      "metadata": {
        "id": "UzrPd0ILQmmz"
      },
      "source": [
        "Un procedimiento más eficiente es\n",
        "\n",
        "* Sí $U<0.40$ hacemos $X = 4$\n",
        "\n",
        "* Sí $U<0.65$ hacemos $X = 3$\n",
        "\n",
        "* Sí $U<0.85$ hacemos $X = 1$\n",
        "\n",
        "* En caso de que $U\\geq 0.85$ entonces $X = 2$"
      ]
    },
    {
      "cell_type": "code",
      "metadata": {
        "colab": {
          "base_uri": "https://localhost:8080/",
          "height": 297
        },
        "id": "WFes8NdsLs_5",
        "outputId": "2c3cc024-6b78-4b2b-a22c-c84a287bc3d6"
      },
      "source": [
        "import pandas as pd\n",
        "from random import uniform\n",
        "import matplotlib.pyplot as plt\n",
        "from time import time\n",
        "\n",
        "'''\n",
        "Los resultados del primer procedimiento se guardan\n",
        "en la lista Resultados1 y los resultados\n",
        "del segundo procedimiento se guardan en la lista\n",
        "Resultados2\n",
        "'''\n",
        "\n",
        "Resultados1 = []\n",
        "Resultados2 = []\n",
        "\n",
        "Inicio1 = time()\n",
        "for Iteracion1 in range (10000):\n",
        "  NumeroAleatorio = uniform(0,1)\n",
        "  if NumeroAleatorio < 0.20:\n",
        "    Resultados1.append(1)\n",
        "  elif NumeroAleatorio < 0.35:\n",
        "    Resultados1.append(2)\n",
        "  elif NumeroAleatorio < 0.60:\n",
        "    Resultados1.append(3)\n",
        "  else:\n",
        "    Resultados1.append(4)\n",
        "Fin1 = time()\n",
        "Inicio2 = time()\n",
        "for Iteracion2 in range (10000):\n",
        "  N = uniform(0,1)\n",
        "  if N<0.40:\n",
        "    Resultados2.append(4)\n",
        "  elif N<0.65:\n",
        "    Resultados2.append(3)\n",
        "  elif N<0.85:\n",
        "    Resultados2.append(1)\n",
        "  else:\n",
        "    Resultados2.append(2)\n",
        "Fin2 = time()\n",
        "'''\n",
        "Los resultados del primer procedimiento lo almacenamos en\n",
        "el Data Frame DF1 y los resultados del segundo procedimiento\n",
        "lo almacenamos en el Data Frame DF2.\n",
        "'''\n",
        "\n",
        "DF1 = pd.DataFrame({'Valor X':Resultados1})\n",
        "DF2 = pd.DataFrame({'Valor X':Resultados2})\n",
        "\n",
        "\n",
        "plt.subplot(121)\n",
        "\n",
        "#DATOS GRAFICA 1\n",
        "\n",
        "plt.hist(DF1.loc[:,'Valor X'],bins = 15,color = 'yellow')\n",
        "for j in range (1,5):\n",
        "    if j == 4:\n",
        "        plt.text(3.45,list(DF1.iloc[:,0]).count(4),str( ((list(DF1.iloc[:,0]).count(4))/10000)*100 )[0:5]+'%' )\n",
        "        break\n",
        "    plt.text(j,list(DF1.iloc[:,0]).count(j),str( ((list(DF1.iloc[:,0]).count(j))/10000)*100 )[0:5]+'%')\n",
        "plt.title('Procedimiento 1')\n",
        "plt.ylabel('Frecuencia')\n",
        "plt.xlabel('Valores de X')\n",
        "plt.tight_layout()\n",
        "\n",
        "plt.subplot(122)\n",
        "\n",
        "#DATOS GRAFICA 2\n",
        "\n",
        "DF2 = pd.DataFrame({'Valor X':Resultados2})\n",
        "plt.hist(DF2.loc[:,'Valor X'],bins = 15,color = 'red')\n",
        "for j in range (1,5):\n",
        "    if j == 4:\n",
        "        plt.text(3.45,list(DF2.iloc[:,0]).count(4),str( ((list(DF2.iloc[:,0]).count(4))/10000)*100 )[0:5]+'%' )\n",
        "        break\n",
        "    plt.text(j,list(DF2.iloc[:,0]).count(j),str( ((list(DF2.iloc[:,0]).count(j))/10000)*100 )[0:5]+'%')\n",
        "plt.title('Procedimiento 2')\n",
        "plt.xlabel('Valores de X')\n",
        "plt.tight_layout()"
      ],
      "execution_count": null,
      "outputs": [
        {
          "output_type": "display_data",
          "data": {
            "image/png": "[encoded data removed]",
            "text/plain": [
              "<Figure size 432x288 with 2 Axes>"
            ]
          },
          "metadata": {
            "tags": [],
            "needs_background": "light"
          }
        }
      ]
    },
    {
      "cell_type": "code",
      "metadata": {
        "colab": {
          "base_uri": "https://localhost:8080/"
        },
        "id": "34Pkb8sk9tKU",
        "outputId": "0aace9a0-a5eb-402f-e2d8-7b01c1c0bf39"
      },
      "source": [
        "print('Tiempo de ejecucion del primer procedimiento',Fin1-Inicio1,'\\nTiempo de ejecucion del segundo procedimiento',Fin2-Inicio2)"
      ],
      "execution_count": null,
      "outputs": [
        {
          "output_type": "stream",
          "text": [
            "Tiempo de ejecucion del primer procedimiento 0.006545305252075195 \n",
            "Tiempo de ejecucion del segundo procedimiento 0.0055694580078125\n"
          ],
          "name": "stdout"
        }
      ]
    },
    {
      "cell_type": "markdown",
      "metadata": {
        "id": "btA0QSHXKh6v"
      },
      "source": [
        "##Generación de variable aleatoria discreta uniforme"
      ]
    },
    {
      "cell_type": "markdown",
      "metadata": {
        "id": "gs4ZSDOZKmDH"
      },
      "source": [
        "Un caso en el que no es necesario buscar el intervalo adecuado en el cual se encuentra el número aleatorio es cuando la variable aleatoria deseada es una variable aleatoria discreta uniforme.\n",
        "\n",
        "Suponga que queremos el valor de $X$ entre los valores $1,\\ldots ,n$, cada uno igualmente probable, i.e\n",
        "\n",
        "$$P\\{X = j\\}=\\frac{1}{n},j = 1,\\ldots,nx$$\n",
        "\n",
        "El resultado anterior implica que podemos lograr esto al generar $U$ y luego\n",
        "\n",
        "$$X = j \\text{ sí }j-1<nU<j$$\n",
        "\n",
        "Del cual $X = \\left[nU\\right]+1$"
      ]
    },
    {
      "cell_type": "code",
      "metadata": {
        "id": "kZCOZgP0EnqA"
      },
      "source": [
        "def Generacion_Variable_Aleatoria_Discreta_Uniforme (U,n):\n",
        "  '''\n",
        "  U es la cantidad de variables aleatorias discretas uniformemente distribuidas entre 0 y 1\n",
        "\n",
        "  n indica el maximo del rango de valores a tomar de X, esto es: 1,...,n\n",
        "  '''\n",
        "  #IMPORTAMOS LIBRERIAS\n",
        "  from random import uniform\n",
        "  import pandas as pd\n",
        "  #DEFINIMOS UNA LISTA QUE CONTENGA CADA X = [nU]+1\n",
        "  L = []\n",
        "  for j in range (U):\n",
        "    L.append(int(n*uniform(0,1))+1)\n",
        "  return L"
      ],
      "execution_count": null,
      "outputs": []
    },
    {
      "cell_type": "code",
      "metadata": {
        "colab": {
          "base_uri": "https://localhost:8080/",
          "height": 297
        },
        "id": "v1xqlaJv5TKf",
        "outputId": "bc7b30a7-4205-428e-9bb3-8ec6d9bcae9b"
      },
      "source": [
        "import matplotlib.pyplot as plt\n",
        "\n",
        "#HACEMOS U = 10,000 Y n = 30.\n",
        "\n",
        "plt.hist(Generacion_Variable_Aleatoria_Discreta_Uniforme(10000,30),bins = 30,edgecolor = 'black')\n",
        "plt.title('Generacion variable aleatoria discreta uniforme')\n",
        "plt.xlabel('Valores')\n",
        "plt.ylabel('Frecuencia')\n",
        "plt.grid()\n",
        "plt.tight_layout()"
      ],
      "execution_count": null,
      "outputs": [
        {
          "output_type": "display_data",
          "data": {
            "image/png": "[encoded data removed]",
            "text/plain": [
              "<Figure size 432x288 with 1 Axes>"
            ]
          },
          "metadata": {
            "tags": [],
            "needs_background": "light"
          }
        }
      ]
    },
    {
      "cell_type": "markdown",
      "metadata": {
        "id": "qMGwY6dvh6o8"
      },
      "source": [
        "## Generación de una permutación"
      ]
    },
    {
      "cell_type": "markdown",
      "metadata": {
        "id": "oXLQGrGRh8oK"
      },
      "source": [
        "Si deseamos permutar $N$ elementos en $n$ entonces realizamos el siguiente código Python."
      ]
    },
    {
      "cell_type": "code",
      "metadata": {
        "colab": {
          "base_uri": "https://localhost:8080/"
        },
        "id": "Z1HtYaXziIIA",
        "outputId": "2d1b8423-149d-4820-d3e7-e0af4b447679"
      },
      "source": [
        "from itertools import permutations  #LA LIBRERIA itertools CONTIENE LA FUNCION permutations\n",
        "\n",
        "#permutations RECIBE DOS ARGUMENTOS\n",
        "# ARGUMENTO 1 : UNA LISTA QUE CONTIENE LOS ELEMENTOS A PERMUTAR\n",
        "# ARGUMENTO 2 : EL NUMERO DE ELEMENTOS A PERMUTAR, EL n\n",
        "\n",
        "#DEFINIMOS UNA LISTA QUE CONTENGA LOS PRIMEROS 20 ENTEROS POSITIVOS\n",
        "\n",
        "L2 = list(range(1,21))\n",
        "\n",
        "#PERMUTAREMOS LA LISTA ANTERIOR EN 5 ELEMENTOS Y LO CONVERTIMOS A LISTA EL RESULTADO\n",
        "\n",
        "Per = list(permutations(L2,5))\n",
        "\n",
        "#DEFINIMOS UN CICLO PARA VISUALIZAR LOS PRIMEROS 6 ELEMENTOS PERMUTADOS\n",
        "\n",
        "for i in range (0,6):\n",
        "  print('La permutacion',i+1,'es',Per[i],'\\n')\n",
        "\n",
        "#PARA SABER EL NUMERO DE PERMUTACIONES SOLO OBTENEMOS LA LONGITUD DE LA LISTA Per\n",
        "\n",
        "print('El numero de permutaciones de L2 en 5 es',len(Per))"
      ],
      "execution_count": null,
      "outputs": [
        {
          "output_type": "stream",
          "text": [
            "La permutacion 1 es (1, 2, 3, 4, 5) \n",
            "\n",
            "La permutacion 2 es (1, 2, 3, 4, 6) \n",
            "\n",
            "La permutacion 3 es (1, 2, 3, 4, 7) \n",
            "\n",
            "La permutacion 4 es (1, 2, 3, 4, 8) \n",
            "\n",
            "La permutacion 5 es (1, 2, 3, 4, 9) \n",
            "\n",
            "La permutacion 6 es (1, 2, 3, 4, 10) \n",
            "\n",
            "El numero de permutaciones de L2 en 5 es 1860480\n"
          ],
          "name": "stdout"
        }
      ]
    },
    {
      "cell_type": "markdown",
      "metadata": {
        "id": "12qLFkv7cLhw"
      },
      "source": [
        "## Generación de una permutación aleatoria"
      ]
    },
    {
      "cell_type": "markdown",
      "metadata": {
        "id": "k7XwINhncTxk"
      },
      "source": [
        "Suponga que estamos interesados en generar una permutación de los números $1,2,\\ldots, n$ tal que todos los $n!$ posibles ordenamientos sean igualmente probables."
      ]
    },
    {
      "cell_type": "markdown",
      "metadata": {
        "id": "r_cA8XP7cgMi"
      },
      "source": [
        "El código Python para realizar esto es el siguiente."
      ]
    },
    {
      "cell_type": "code",
      "metadata": {
        "colab": {
          "base_uri": "https://localhost:8080/"
        },
        "id": "wnSaf6BKcpfc",
        "outputId": "6a4b45a2-b8b3-4cbd-db9f-bab30cf0649f"
      },
      "source": [
        "from random import sample #LA LIBRERIA random CONTIENE LA FUNCION sample\n",
        "\n",
        "#sample RECIBE DOS ARGUMENTOS\n",
        "# ARGUMENTO 1 : UNA LISTA QUE CONTIENE LOS ELEMENTOS A ALEATORIZAR\n",
        "# ARGUMENTO 2 : EL NUMERO DE ELEMENTOS DE LA LISTA DADA PARA ALEATORIZAR\n",
        "\n",
        "#DEFINIMOS UNA LISTA QUE CONTENGA LOS PRIMEROS 6 ENTEROS POSITIVOS.\n",
        "\n",
        "L = list(range(1,7))\n",
        "\n",
        "#CREAMOS UN CICLO for DONDE CADA ITERACION MARCA EL NUMERO DE ELEMENTOS A ALEATORIZAR DE LA LISTA\n",
        "\n",
        "for i in range (1,7):\n",
        "  print('La permutacion aleatoria de',i,'elementos es',sample(L,i)) # i<= len(L)\n",
        "\n",
        "#SI DESEA GENERAR UNA PERMUTACION ALEATORIA DE CUALQUIER OTRO CONJUNTO DE ELEMENTOS\n",
        "#SOLO MODIFIQUE LA LISTA"
      ],
      "execution_count": null,
      "outputs": [
        {
          "output_type": "stream",
          "text": [
            "La permutacion aleatoria de 1 elementos es [1]\n",
            "La permutacion aleatoria de 2 elementos es [1, 2]\n",
            "La permutacion aleatoria de 3 elementos es [3, 5, 4]\n",
            "La permutacion aleatoria de 4 elementos es [6, 1, 5, 2]\n",
            "La permutacion aleatoria de 5 elementos es [4, 3, 2, 5, 1]\n",
            "La permutacion aleatoria de 6 elementos es [3, 5, 4, 1, 6, 2]\n"
          ],
          "name": "stdout"
        }
      ]
    },
    {
      "cell_type": "markdown",
      "metadata": {
        "id": "-Hegk5IHt1bN"
      },
      "source": [
        "## Generación de una variable aleatoria de Poisson"
      ]
    },
    {
      "cell_type": "markdown",
      "metadata": {
        "id": "fS-HYaxNt6aj"
      },
      "source": [
        "La variable aleatoria $X$ es Poisson con media $\\lambda$ sí\n",
        "\n",
        "$$p_i = P\\{X = i\\} = e^{-\\lambda}\\frac{\\lambda^{i}}{i!},\\text{  }i\\in \\left(\\mathbb N\\cup{0}\\right)$$"
      ]
    },
    {
      "cell_type": "markdown",
      "metadata": {
        "id": "3u-rwwpQveIO"
      },
      "source": [
        "La clave para aplicar el método de la transformada inversa para generar esta variable aleatoria es la siguiente identidad.\n",
        "\n",
        "$$P_{i+1} = \\frac{\\lambda}{i+1}\\cdot p_i,\\text{  } i\\geq0$$\n",
        "\n",
        "Esta recursión de probabilidad se utilizar en el siguiente algoritmo, tomando $\\lambda$ como usted desee :\n",
        "\n",
        "|Pasos|Instruccion|\n",
        "|--|--|\n",
        "|1|Generar un número aleatorio discreto distribuido uniformemente entre 0 y 1|\n",
        "|2|Hace $i = 0, p = e^{-\\lambda}, F = p$.|\n",
        "|3|Verifica que $U < F$, en caso afirmativo hacemos entonces $X = i$ y terminamos el ciclo.|\n",
        "|4|En caso de que $U\\geq F$ hacemos $p = \\frac{\\lambda\\cdot p}{i+1},F = F + p, i = i + 1$|\n",
        "|5|Repetimos el paso 3|"
      ]
    },
    {
      "cell_type": "code",
      "metadata": {
        "colab": {
          "base_uri": "https://localhost:8080/",
          "height": 433
        },
        "id": "oZkoxa8ju_tT",
        "outputId": "d3341c21-a9bb-44e1-8ca5-f4450ade283b"
      },
      "source": [
        "def Generacion_Variable_Aleatoria_Discreta_Poisson (Media_Lambda):\n",
        "  '''\n",
        "  Media_Lambda es el valor de la Lambda en la distribucion Poisson, este\n",
        "  valor es dado por el usuario.\n",
        "\n",
        "  N es la cantidad de numeros a evaluar.\n",
        "  '''\n",
        "  #IMPORTAMOS LIBRERIAS\n",
        "  from random import uniform\n",
        "  from math import exp\n",
        "  #PASO 1 : GENERAMOS EL VALOR ALEATORIO UNIFORMEMENTE DISTRIBUIDO ENTRE 0 Y 1\n",
        "  U = uniform(0,1) \n",
        "  #PASO 2\n",
        "  i = 0\n",
        "  p = exp(-Media_Lambda)\n",
        "  F = p\n",
        "  #PASO 4\n",
        "  while U >= F:\n",
        "    p = (Media_Lambda*p)/(i+1)\n",
        "    F = F + p\n",
        "    i += 1\n",
        "  #PASO 3\n",
        "  return i\n",
        "\n",
        "import pandas as pd\n",
        "import matplotlib.pyplot as plt\n",
        "Lista = list(Generacion_Variable_Aleatoria_Discreta_Poisson(1) for j in range (1000))\n",
        "DF = pd.DataFrame({'Valores de X':Lista})\n",
        "Valores = DF.value_counts()\n",
        "print(Valores)\n",
        "Y = list(int(Valores[ValoresY]) for ValoresY in range (len(Valores)))\n",
        "X = list(str(ValoresX) for ValoresX in range (len(Valores)))\n",
        "plt.bar(X,Y,width = 1,edgecolor = 'black')\n",
        "plt.title('Generacion de variable aleatoria discreta Poisson con media 1')\n",
        "plt.ylabel('Frecuencia')\n",
        "plt.xlabel('Valor')\n",
        "plt.grid(linestyle = '--')\n",
        "plt.tight_layout()"
      ],
      "execution_count": null,
      "outputs": [
        {
          "output_type": "stream",
          "text": [
            "Valores de X\n",
            "0               381\n",
            "1               372\n",
            "2               182\n",
            "3                51\n",
            "4                12\n",
            "5                 2\n",
            "dtype: int64\n"
          ],
          "name": "stdout"
        },
        {
          "output_type": "display_data",
          "data": {
            "image/png": "[encoded data removed]",
            "text/plain": [
              "<Figure size 432x288 with 1 Axes>"
            ]
          },
          "metadata": {
            "tags": [],
            "needs_background": "light"
          }
        }
      ]
    },
    {
      "cell_type": "markdown",
      "metadata": {
        "id": "ezOPSWV0_YXA"
      },
      "source": [
        "## Generación de variables Binomiales"
      ]
    },
    {
      "cell_type": "markdown",
      "metadata": {
        "id": "e1mXX8hH_jzI"
      },
      "source": [
        "Suponga que queremos generar el valor de $X$, una variable aleatoria binomial $(n,p)$; es decir, $X$ tal que\n",
        "\n",
        "$$P\\{X = i\\} = \\frac{n!}{i!(n-i)!}\\cdot p^{i}(1-p)^{n-i},\\text{  }i=0,\\ldots,n$$"
      ]
    },
    {
      "cell_type": "markdown",
      "metadata": {
        "id": "-5B8RfsEAA28"
      },
      "source": [
        "Para esto, nos valemos del método de la transformada inversa y de la identidad recursiva.\n",
        "\n",
        "$$P\\{X = i + 1\\} = \\frac{n-i}{1+i}\\cdot \\frac{p}{1-p}\\cdot P\\{X = i\\}$$\n",
        "\n",
        "Sí $i$ denota el valor en cuestión, note que $pr =  P\\{X = i\\}$ la probabilidad de que $X$ sea igual a $i$, y $F = F(i)$ la probabilidad de que $X\\leq i$, el algoritmo se puede expresar de la siguiente manera."
      ]
    },
    {
      "cell_type": "markdown",
      "metadata": {
        "id": "sgaI8JmbD6I6"
      },
      "source": [
        "|Pasos|Instruccion|\n",
        "|--|--|\n",
        "|1|Generar un número aleatorio discreto distribuido uniformemente entre 0 y 1|\n",
        "|2|Hace $c=\\frac{p}{1-p},i=0,pr=(1-p)^n,F=pr$|\n",
        "|3|Verifica que $U < F$, en caso afirmativo hacemos entonces $X = i$ y terminamos el ciclo.|\n",
        "|4|En caso de que $U\\geq F$ hacemos $pr = \\frac{c(n-i)}{i+1}\\cdot pr, F = F + pr, i = i + 1$|\n",
        "|5|Repetimos el paso 3|"
      ]
    },
    {
      "cell_type": "markdown",
      "metadata": {
        "id": "YOxZo3IsEjlu"
      },
      "source": [
        "En general la distribución binomial describe el comportamiento de una variable $X$ que cuenta número de éxitos tal que: \n",
        "\n",
        "* El número de observaciones $n$ es fijo.\n",
        "\n",
        "* Cada observación es independiente\n",
        "\n",
        "* Cada observación representa uno de dos posibles eventos (éxito o fracaso)\n",
        "\n",
        "* La probabilidad de éxito $p$ es la misma en cada observación"
      ]
    },
    {
      "cell_type": "code",
      "metadata": {
        "id": "C7RWlJg7y8kt"
      },
      "source": [
        "#EN PYTHON LA LIBRERIA NumPy CONTIENE LA FUNCION BINOMIAL QUE NOS AYUDA CON ESTE TRABAJO\n",
        "import numpy as np\n",
        "\n",
        "#GENERAMOS UNA LISTA QUE CONTEGNA 50000 OBSERVACIONES DEL CUAL EXTRAEMOS 50 CON\n",
        "#UNA PROBABILIDAD DE 0.5\n",
        "\n",
        "Datos_Binomiales = list(np.random.binomial(50,0.5,50000))\n",
        "\n",
        "#GENERAMOS UN DF PARA PODER GRAFICAR ESTOS DATOS EN UNA GRAFICA DE BARRAS\n",
        "\n",
        "import pandas as pd\n",
        "\n",
        "DF = pd.DataFrame({'Datos Binomiales':Datos_Binomiales})\n",
        "\n",
        "#EXTRAEMOS DE DF.value_counts() LOS NOMBRES DE LAS FILAS, PUES ES SERIE,\n",
        "#DE TAL MANERA QUE LOS METEMOS EN UNA LISTA Y LUEGO VAMOS EXTRAYENDO CADA \n",
        "#UNO DE LOS ELEMENTOS DE ESTA LISTA, LUEGO EXTRAEMOS EL PRIMER ELEMENTO.\n",
        "\n",
        "X = list(list(DF.value_counts().index)[i][0] for i in range (len(list(DF.value_counts().index))))\n",
        "\n",
        "#REACOMODAMOS LA LISTA X\n",
        "X.sort()\n",
        "\n",
        "#EXTRAEMOS LOS VALORES DE CADA UNA DE LAS FILAS DE LA SERIE DF.value_counts()\n",
        "\n",
        "#NOTA : EN ALGUNAS ITERACIONES SE TIENE UN SALTO DE 1 O 2 ELEMENTOS \n",
        "#LO CUAL GENERA UN ERROR, EN CASO DE QUE GENERE UN ERROR SE RECOMIENDA SOLAMENTE VOLVER \n",
        "#A CORRER ESTE CHUNK\n",
        "Y = list(int(DF.value_counts()[ValoresY]) for ValoresY in range( min(X),max(X) + 1)   )"
      ],
      "execution_count": null,
      "outputs": []
    },
    {
      "cell_type": "code",
      "metadata": {
        "colab": {
          "base_uri": "https://localhost:8080/",
          "height": 297
        },
        "id": "0Xysyxv0OIBz",
        "outputId": "bd76f647-f2ed-4fbf-f27d-1f1d73e62100"
      },
      "source": [
        "import matplotlib.pyplot as plt\n",
        "\n",
        "plt.bar(X,Y,edgecolor = 'black',width=1,color = 'orange')\n",
        "plt.grid(linestyle = '--')\n",
        "plt.title('Generación de variables Binomiales\\ncon 50000 observaciones, 50 ensayos')\n",
        "plt.xlabel('Muestras')\n",
        "plt.ylabel('Observaciones')\n",
        "plt.text(30,5000,'Probabilidad = 0.5')\n",
        "plt.tight_layout()"
      ],
      "execution_count": null,
      "outputs": [
        {
          "output_type": "display_data",
          "data": {
            "image/png": "[encoded data removed]",
            "text/plain": [
              "<Figure size 432x288 with 1 Axes>"
            ]
          },
          "metadata": {
            "tags": [],
            "needs_background": "light"
          }
        }
      ]
    },
    {
      "cell_type": "markdown",
      "metadata": {
        "id": "_z1Bz-jxBv42"
      },
      "source": [
        "## La técnica de aceptación y rechazo"
      ]
    },
    {
      "cell_type": "markdown",
      "metadata": {
        "id": "B9zpBkjcB5cr"
      },
      "source": [
        "Suponga que tenemos un método eficiente para simular una variable aleatoria con función de masa de probabilidad $\\{q_j,j\\geq 0\\}$.\n",
        "\n",
        "Podemos emplearlo como la base para simular a partir de la distribución que tiene función de masa $\\{p_j,j\\geq 0\\}$ primero simulando una variable $Y$ aleatoria con función de masa $\\{q_j\\}$ y luego aceptar este valor simulado con una probabilidad proporcional a $\\frac{p_Y}{q_Y}$.\n",
        "\n",
        "Específicamente, sea $c$ una constante tal que\n",
        "\n",
        "$$\\frac{p_j}{q_j}\\leq c,\\forall j\\text{ tal que }p_j>0$$\n",
        "\n",
        "Ahora tenemos la siguiente técnica, llamada **método de rechazo**, para simular una variable aleatoria $X$ con función de masa $p_j = P\\{X=j\\}$."
      ]
    },
    {
      "cell_type": "markdown",
      "metadata": {
        "id": "qbGctHNdCuR3"
      },
      "source": [
        "**Método de rechazo**\n",
        "\n",
        "|Pasos|Instruccion|\n",
        "|--|--|\n",
        "|1|Simular el valor de $Y$, con función de masa de probabilidad $q_j$.|\n",
        "|2|Generar un número aleatorio $U$ distribuido uniformemente entre $(0,1)$|\n",
        "|3|Sí $U<\\frac{p_Y}{c\\cdot q_Y}$ hacemos $X = Y$ y terminamos.|\n",
        "|4|En caso de que $U\\geq \\frac{p_Y}{c\\cdot q_Y}$ regresamos al paso 1|"
      ]
    },
    {
      "cell_type": "markdown",
      "metadata": {
        "id": "FIOFIQn2DcCW"
      },
      "source": [
        "Tenemos que este algoritmo tiene en promedio $c$ iteraciones para obtener el valor generado de $X$."
      ]
    },
    {
      "cell_type": "markdown",
      "metadata": {
        "id": "VvoX8lkEDpuK"
      },
      "source": [
        "**EJEMPLO**"
      ]
    },
    {
      "cell_type": "markdown",
      "metadata": {
        "id": "3eBsKN7VDu7c"
      },
      "source": [
        "Supongamos que queremos simular el valor de una variable aleatoria $X$ que toma uno de los valores $1,2,3,4$ con probabilidades $p_1 = 0.20, p_2 = 0.15, p_3 = 0.25, p_4 = 0.40$, donde $p_j = P\\{X = j\\}$.\n",
        "\n",
        "Usando el método de aceptación y rechazo sí $q$ es la densidad uniforme en $\\{1,\\ldots,4\\}$."
      ]
    },
    {
      "cell_type": "code",
      "metadata": {
        "id": "z1iEiqQwPObg"
      },
      "source": [
        "def Funcion_Aceptacion_Rechazo_Variables_Aleatorias_Uniformes (Lista_Probabilidades):\n",
        "  from random import uniform\n",
        "  from math import ceil\n",
        "  p_j = Lista_Probabilidades #Ponemos en una lista las probabilidades\n",
        "  c = max(p_j)/(1/len(p_j)) #c es la division del maximo de la probabilidades y 1/longitud de p_j\n",
        "  U = ceil(len(p_j)*uniform(0,1)) #U es el techo del producto de la longitud de p_j por un U\n",
        "  while uniform(0,1) > p_j[U-1]/(c*(1/len(p_j))): \n",
        "    U = ceil(len(p_j)*uniform(0,1))\n",
        "  return U"
      ],
      "execution_count": null,
      "outputs": []
    },
    {
      "cell_type": "code",
      "metadata": {
        "colab": {
          "base_uri": "https://localhost:8080/"
        },
        "id": "i33NJWfxE7vA",
        "outputId": "292799a4-4d63-42c3-f500-bb3781a83251"
      },
      "source": [
        "Valores = list(Funcion_Aceptacion_Rechazo_Variables_Aleatorias_Uniformes([0.20,0.15,0.25,0.40]) for i in range (100000))\n",
        "DF_V = pd.DataFrame({'Valores':Valores})\n",
        "G = (DF_V.value_counts()/100000)*100\n",
        "print('Porcentaje de frecuencia','\\n',G)"
      ],
      "execution_count": null,
      "outputs": [
        {
          "output_type": "stream",
          "text": [
            "Porcentaje de frecuencia \n",
            " Valores\n",
            "4          39.988\n",
            "3          24.941\n",
            "1          19.957\n",
            "2          15.114\n",
            "dtype: float64\n"
          ],
          "name": "stdout"
        }
      ]
    },
    {
      "cell_type": "code",
      "metadata": {
        "colab": {
          "base_uri": "https://localhost:8080/",
          "height": 297
        },
        "id": "GP9kHMVAKdRQ",
        "outputId": "7addf72e-9245-4118-e289-639c013db29a"
      },
      "source": [
        "Y = list(int(DF_V.value_counts()[i]) for i in range (1,len(DF_V.value_counts())+1 ))\n",
        "X = list(j for j in range (1,len(DF_V.value_counts())+1 ))\n",
        "plt.bar(X,Y,width=1,edgecolor = 'yellow',color = 'purple')\n",
        "plt.grid(linestyle = '--')\n",
        "plt.title('Simulacion de variable aleatoria uniforme\\nmediante el metodo de aceptacion y rechazo.\\n\\nEjemplo 1')\n",
        "plt.xlabel('Valores')\n",
        "plt.ylabel('Frecuencia')\n",
        "plt.tight_layout()"
      ],
      "execution_count": null,
      "outputs": [
        {
          "output_type": "display_data",
          "data": {
            "image/png": "[encoded data removed]",
            "text/plain": [
              "<Figure size 432x288 with 1 Axes>"
            ]
          },
          "metadata": {
            "tags": [],
            "needs_background": "light"
          }
        }
      ]
    },
    {
      "cell_type": "markdown",
      "metadata": {
        "id": "epnREhdvRfgN"
      },
      "source": [
        "**EJEMPLO**"
      ]
    },
    {
      "cell_type": "markdown",
      "metadata": {
        "id": "O2Xy3XzwRhQv"
      },
      "source": [
        "Suponga que queremos simular el valor de una variable aleatoria $X$:\n",
        "\n",
        "|Valores de X|1|2|3|4|5|6|7|8|9|10|\n",
        "|--|--|--|--|--|--|--|--|--|--|--|\n",
        "|Probabilidades|0.11|0.12|0.09|0.08|0.12|0.10|0.09|0.09|0.10|0.10|"
      ]
    },
    {
      "cell_type": "markdown",
      "metadata": {
        "id": "oMPVY-rjR5ck"
      },
      "source": [
        "Utilizando el método de rechazo, si $q$ como la densidad uniforme discreta en $\\{1,\\ldots,10\\}$."
      ]
    },
    {
      "cell_type": "code",
      "metadata": {
        "colab": {
          "base_uri": "https://localhost:8080/"
        },
        "id": "c4IFwURMOl8-",
        "outputId": "d2fb20de-6e8d-40f4-f5ac-7b93a9ad9191"
      },
      "source": [
        "Valores = list(Funcion_Aceptacion_Rechazo_Variables_Aleatorias_Uniformes([0.11,0.12,0.09,0.08,0.12,0.10,0.09,0.09,0.10,0.10]) for i in range (100000))\n",
        "DF_V = pd.DataFrame({'Valores':Valores})\n",
        "G = (DF_V.value_counts()/100000)*100\n",
        "print('Porcentaje de frecuencia','\\n',G)"
      ],
      "execution_count": null,
      "outputs": [
        {
          "output_type": "stream",
          "text": [
            "Porcentaje de frecuencia \n",
            " Valores\n",
            "5          12.112\n",
            "2          12.006\n",
            "1          11.109\n",
            "6          10.015\n",
            "10          9.929\n",
            "9           9.813\n",
            "3           9.038\n",
            "8           9.035\n",
            "7           8.859\n",
            "4           8.084\n",
            "dtype: float64\n"
          ],
          "name": "stdout"
        }
      ]
    },
    {
      "cell_type": "code",
      "metadata": {
        "colab": {
          "base_uri": "https://localhost:8080/",
          "height": 297
        },
        "id": "wDVJGns8PEhD",
        "outputId": "cb7834ef-fa65-4222-b0f7-f7d4e528553d"
      },
      "source": [
        "Y = list(int(DF_V.value_counts()[i]) for i in range (1, len(DF_V.value_counts())+1 ))\n",
        "X = list(j for j in range (1,len(DF_V.value_counts())+1 ))\n",
        "plt.bar(X,Y,width=1,edgecolor = 'white',color = 'red')\n",
        "plt.grid(linestyle = '--')\n",
        "plt.title('Simulacion de variable aleatoria uniforme\\nmediante el metodo de aceptacion y rechazo\\n\\nEjemplo 2')\n",
        "plt.xlabel('Valores')\n",
        "plt.ylabel('Frecuencia')\n",
        "plt.tight_layout()"
      ],
      "execution_count": null,
      "outputs": [
        {
          "output_type": "display_data",
          "data": {
            "image/png": "[encoded data removed]",
            "text/plain": [
              "<Figure size 432x288 with 1 Axes>"
            ]
          },
          "metadata": {
            "tags": [],
            "needs_background": "light"
          }
        }
      ]
    },
    {
      "cell_type": "markdown",
      "metadata": {
        "id": "JITCRi3_SDGw"
      },
      "source": [
        "**EJEMPLO**"
      ]
    },
    {
      "cell_type": "markdown",
      "metadata": {
        "id": "P716L2F4SEtp"
      },
      "source": [
        "Retomando el primer ejemplo visto en este COLAB podemos ver que se cumple la misma distribución."
      ]
    },
    {
      "cell_type": "markdown",
      "metadata": {
        "id": "BJDqCSx-SPKv"
      },
      "source": [
        "Si queremos simular una variable aleatoria $X$ tal que\n",
        "\n",
        "|$$i$$|$$p_i$$|\n",
        "|--|--|\n",
        "|$$1$$|$$0.20$$|\n",
        "|$$2$$|$$0.15$$|\n",
        "|$$3$$|$$0.25$$|\n",
        "|$$4$$|$$0.40$$|\n"
      ]
    },
    {
      "cell_type": "code",
      "metadata": {
        "colab": {
          "base_uri": "https://localhost:8080/"
        },
        "id": "Nh755jUHRKKj",
        "outputId": "761913b1-3223-49aa-98d2-c0f16139600a"
      },
      "source": [
        "Valores = list(Funcion_Aceptacion_Rechazo_Variables_Aleatorias_Uniformes([0.20,0.15,0.25,0.40]) for i in range (100000))\n",
        "DF_V = pd.DataFrame({'Valores':Valores})\n",
        "G = (DF_V.value_counts()/100000)*100\n",
        "print('Porcentaje de frecuencia','\\n',G)"
      ],
      "execution_count": null,
      "outputs": [
        {
          "output_type": "stream",
          "text": [
            "Porcentaje de frecuencia \n",
            " Valores\n",
            "4          39.915\n",
            "3          25.021\n",
            "1          20.158\n",
            "2          14.906\n",
            "dtype: float64\n"
          ],
          "name": "stdout"
        }
      ]
    },
    {
      "cell_type": "code",
      "metadata": {
        "colab": {
          "base_uri": "https://localhost:8080/",
          "height": 297
        },
        "id": "Y1jvD_aJRX4G",
        "outputId": "78fc31b2-9caa-4dd7-9939-26449323a484"
      },
      "source": [
        "Y = list(int(DF_V.value_counts()[i]) for i in range (1, len(DF_V.value_counts())+1 ))\n",
        "X = list(j for j in range (1,len(DF_V.value_counts())+1 ))\n",
        "plt.bar(X,Y,width=1,edgecolor = 'yellow',color = 'black')\n",
        "plt.grid(linestyle = '--')\n",
        "plt.title('Simulacion de variable aleatoria uniforme\\nmediante el metodo de aceptacion y rechazo\\n\\nEjemplo 3')\n",
        "plt.xlabel('Valores')\n",
        "plt.ylabel('Frecuencia')\n",
        "plt.tight_layout()"
      ],
      "execution_count": null,
      "outputs": [
        {
          "output_type": "display_data",
          "data": {
            "image/png": "[encoded data removed]",
            "text/plain": [
              "<Figure size 432x288 with 1 Axes>"
            ]
          },
          "metadata": {
            "tags": [],
            "needs_background": "light"
          }
        }
      ]
    }
  ]
}