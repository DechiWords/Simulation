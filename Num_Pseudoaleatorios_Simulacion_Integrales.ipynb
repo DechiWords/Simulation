{
  "nbformat": 4,
  "nbformat_minor": 0,
  "metadata": {
    "colab": {
      "name": "Num_Pseudoaleatorios_Simulacion_Integrales.ipynb",
      "provenance": [],
      "collapsed_sections": [],
      "authorship_tag": "ABX9TyOUrcfgflpxkicUQllcRSgY",
      "include_colab_link": true
    },
    "kernelspec": {
      "name": "python3",
      "display_name": "Python 3"
    }
  },
  "cells": [
    {
      "cell_type": "markdown",
      "metadata": {
        "id": "view-in-github",
        "colab_type": "text"
      },
      "source": [
        "<a href=\"https://colab.research.google.com/github/DechiWords/Simulation/blob/main/Num_Pseudoaleatorios_Simulacion_Integrales.ipynb\" target=\"_parent\"><img src=\"https://colab.research.google.com/assets/colab-badge.svg\" alt=\"Open In Colab\"/></a>"
      ]
    },
    {
      "cell_type": "markdown",
      "metadata": {
        "id": "P7z9VM3GXLDH"
      },
      "source": [
        "#Números Pseudoaleatorios"
      ]
    },
    {
      "cell_type": "markdown",
      "metadata": {
        "id": "hNGBTrJHXRPU"
      },
      "source": [
        "## Método congruencial multiplicativo"
      ]
    },
    {
      "cell_type": "markdown",
      "metadata": {
        "id": "4DIHcg0RMhvn"
      },
      "source": [
        "El **método congruencial multiplicativo** es uno de los métodos más comunes para generar números pseudoaleatorios.\n",
        "\n",
        "Comienza con un valor inicial $x_0$ llamado *semilla*, y luego se calcula de manera recursiva los valores sucesivos $x_n$, con $n\\geq 1$, haciendo\n",
        "\n",
        "$$x_n \\equiv a\\cdot x_{n-1} mod \\left(m\\right), a,m \\in \\mathbb Z^{+}$$\n",
        "\n",
        "Cada $x_n$ es $0,1,\\ldots ,m-1$ y la cantidad $\\frac{x_n}{m} = u_n$, llamada **número pseudoaleatorio**, se considera como una aproximación del valor de una variable aleatoria uniforme en $\\left(0,1\\right)$.\n",
        "\n",
        "Como cada uno de los números $x_n$, asume uno de los valores desde $0,1,\\ldots ,m-1$, se tiene que después de cierto número finito (a lo más $m$) de valores generados, alguno debe repetirse, y una vez que esto ocurre, toda la sucesión comienza a repetirse.\n",
        "\n",
        "Así, queremos encontrar las constantes $a$ y $m$ tales que para cualquier semilla $x_0$, el número de variables que se puedan generar antes de que suceda esta repetición, sea «grande».\n",
        "\n",
        "En general, las constantes $a$ y $m$ deben satisfacer tres criterios.\n",
        "\n",
        "1. Para cualquier semilla inicial, $x_0$, la sucesión resultante tiene la «apariencia» de ser una sucesión de variables aleatorias independientes y uniformes en $\\left(0,1\\right)$.\n",
        "\n",
        "2. Para cualquier semilla inicial, $x_0$, el número de variables que se pueden generar antes de que comience la repetición es grande.\n",
        "\n",
        "3. Los valores se pueden calcular de manera eficiente en una computadora.\n",
        "\n",
        "Un criterio que ayuda a determinar el valor de $m$ es tomar un primo lo suficientemente grande."
      ]
    },
    {
      "cell_type": "markdown",
      "metadata": {
        "id": "7A4-R0lhPEOi"
      },
      "source": [
        "***EJEMPLO***\n",
        "\n",
        "Generar 50 números pseudoaleatorios a partir del generador congruencial multiplicativo.\n",
        "\n",
        "$$x_n \\equiv 171\\cdot x_{n-1} mod \\left(30269 \\right)$$\n",
        "\n",
        "$$u_n = \\frac{x_n}{30269}$$\n",
        "\n",
        "Con $x_0 = 27218$."
      ]
    },
    {
      "cell_type": "code",
      "metadata": {
        "id": "VpQdinMeOsnD"
      },
      "source": [
        "#Definimos la semilla\n",
        "\n",
        "x_0 = 27218\n",
        "\n",
        "#Definimos una lista donde el unico dato sea la semilla\n",
        "\n",
        "x = [x_0]\n",
        "\n",
        "#Definimos un ciclo donde podamos ir generando cada x_n, en este caso con 50 iteraciones\n",
        "#pues deseamos 50 numeros pseudoaleatorios. Los agregamos a la lista.\n",
        "\n",
        "for i in range (50):\n",
        "  x_n = (171 * x[-1]) % 30269 \n",
        "  x.append(x_n)\n",
        "\n",
        "#Definimos una lista que contenga cada uno de los numeros pseudoaleatorios\n",
        "\n",
        "Num_Pseudoaleatorios = []\n",
        "\n",
        "for j in range (50):\n",
        "  Num_Pseudoaleatorios.append(x[j]/30269 )"
      ],
      "execution_count": null,
      "outputs": []
    },
    {
      "cell_type": "code",
      "metadata": {
        "colab": {
          "base_uri": "https://localhost:8080/"
        },
        "id": "5EG2mCCaRlS3",
        "outputId": "025b6a6f-be22-48fe-cc64-010c998474bb"
      },
      "source": [
        "#Imprimimos la lista Num_Pseudoaleatorios\n",
        "\n",
        "Num_Pseudoaleatorios"
      ],
      "execution_count": null,
      "outputs": [
        {
          "output_type": "execute_result",
          "data": {
            "text/plain": [
              "[0.8992038058739965,\n",
              " 0.7638508044534011,\n",
              " 0.6184875615316,\n",
              " 0.7613730219035978,\n",
              " 0.19478674551521358,\n",
              " 0.308533483101523,\n",
              " 0.7592256103604348,\n",
              " 0.8275793716343454,\n",
              " 0.5160725494730583,\n",
              " 0.2484059598929598,\n",
              " 0.47741914169612476,\n",
              " 0.6386732300373319,\n",
              " 0.21312233638375896,\n",
              " 0.44391952162278236,\n",
              " 0.9102381974957877,\n",
              " 0.6507317717797086,\n",
              " 0.2751329743301728,\n",
              " 0.04773861045954607,\n",
              " 0.163302388582378,\n",
              " 0.9247084475866398,\n",
              " 0.1251445373154052,\n",
              " 0.3997158809342892,\n",
              " 0.35141563976345436,\n",
              " 0.09207439955069543,\n",
              " 0.7447223231689187,\n",
              " 0.34751726188509696,\n",
              " 0.4254517823515808,\n",
              " 0.7522547821203212,\n",
              " 0.6355677425749117,\n",
              " 0.682083980309888,\n",
              " 0.6363606329908488,\n",
              " 0.8176682414351316,\n",
              " 0.8212692854075127,\n",
              " 0.43704780468466087,\n",
              " 0.7351746010770095,\n",
              " 0.7148567841686213,\n",
              " 0.24051009283425287,\n",
              " 0.12722587465724008,\n",
              " 0.7556245663880538,\n",
              " 0.21180085235719714,\n",
              " 0.21794575308070963,\n",
              " 0.2687237768013479,\n",
              " 0.9517658330304932,\n",
              " 0.7519574482143447,\n",
              " 0.5847236446529452,\n",
              " 0.9877432356536391,\n",
              " 0.9040932967722752,\n",
              " 0.5999537480590703,\n",
              " 0.5920909181010274,\n",
              " 0.2475469952756946]"
            ]
          },
          "metadata": {
            "tags": []
          },
          "execution_count": 27
        }
      ]
    },
    {
      "cell_type": "markdown",
      "metadata": {
        "id": "ctrXL-TtXD25"
      },
      "source": [
        "## Uso de números pseudoaleatorios para evaluar integrales."
      ]
    },
    {
      "cell_type": "markdown",
      "metadata": {
        "id": "5ZHSfaazXaYQ"
      },
      "source": [
        "Sea $g(x)$ una función y supongamos que queremos calcular $\\theta $, donde \n",
        "$$ \\int_0^1 g(x)\\cdot dx $$\n",
        "Para calcular el valor de $\\theta $ note que sí $U$ está distribuida uniformemente en $(0,1)$, entonces podemos expresar $\\theta$ como\n",
        "\n",
        "$$\\theta = E[g(U)]$$\n",
        "\n",
        "Sí $U_1,\\ldots ,U_k$ son variables aleatorias independientes y uniformes en $(0,1)$, esto implica que $g(U_1),\\ldots ,g(U_k)$ son variables aleatorias independientes e idénticamente distribuidas con media $\\theta $,\n",
        "\n",
        "Por lo tanto, por la ley fuerte de los grandes números, se tiene que \n",
        "\n",
        "$$\\sum_{i=1}^k \\frac{g(U_i)}{k}\\rightarrow E[g(U)] = \\int_0^1 g(x) \\cdot dx$$\n",
        "\n",
        "El método anterior es llamado **Monte Carlo**."
      ]
    },
    {
      "cell_type": "markdown",
      "metadata": {
        "id": "cp12U34uZ1dh"
      },
      "source": [
        "***EJEMPLO***\n",
        "\n",
        "Calcule el valor de la integral \n",
        "\n",
        "$$\\int_0^1 x^2\\cdot dx$$"
      ]
    },
    {
      "cell_type": "code",
      "metadata": {
        "colab": {
          "base_uri": "https://localhost:8080/"
        },
        "id": "UdaJsmsbZxtA",
        "outputId": "92104080-51d5-4ef0-cba0-dbbe6af08bf9"
      },
      "source": [
        "#DEFINIMOS UNA FUNCION QUE REPRESENTE LA FUNCION MATEMATICA f(x) = x^2\n",
        "\n",
        "def Parabola (Numero):\n",
        "  return Numero**2\n",
        "\n",
        "#IMPORTAMOS LA FUNCION uniform DE LA LIBRERIA random PARA EXTRAER NUMEROS ALEATORIOS ENTRE 0 Y 1\n",
        "\n",
        "from random import uniform\n",
        "\n",
        "#DEFINIMOS UNA LISTA QUE CONTENGA POR LO MENOS 10,000 NUMEROS PROVENIENTES DE uniform\n",
        "\n",
        "N_Aleatorio = []\n",
        "\n",
        "for i in range (10000000):\n",
        "  N_Aleatorio.append(uniform(0,1))\n",
        "\n",
        "#A CADA UNO DE LOS ELEMENTOS DE LA LISTA LE APLICAMOS LA FUNCION Parabola Y LO ASIGNAMOS A LA LISTA R\n",
        "\n",
        "R = []\n",
        "\n",
        "for j in range (len(N_Aleatorio)):\n",
        "  R.append(Parabola(N_Aleatorio[j]))\n",
        "\n",
        "from statistics import mean\n",
        "\n",
        "print(mean(R))"
      ],
      "execution_count": null,
      "outputs": [
        {
          "output_type": "stream",
          "text": [
            "0.3332291661047217\n"
          ],
          "name": "stdout"
        }
      ]
    },
    {
      "cell_type": "markdown",
      "metadata": {
        "id": "PIPv6khLrKdk"
      },
      "source": [
        "***EJEMPLO***\n",
        "\n",
        "Calcule el valor de la integral\n",
        "$$\\int_0^1 e^x\\cdot dx$$"
      ]
    },
    {
      "cell_type": "code",
      "metadata": {
        "colab": {
          "base_uri": "https://localhost:8080/"
        },
        "id": "3LzGJIPErJLu",
        "outputId": "6c987ceb-17df-4e73-84e9-1e1c1567c054"
      },
      "source": [
        "#DEFINIMOS UNA FUNCION QUE REPRESENTE LA FUNCION MATEMATICA f(x) = e^x\n",
        "\n",
        "def Exponencial (Numero):\n",
        "  from math import e\n",
        "  return e**Numero\n",
        "\n",
        "#VAMOS A REUTILIZAR LA LISTA N_ALeatorio DEL EJEMPLO ANTERIOR\n",
        "\n",
        "#A CADA UNO DE LOS ELEMENTOS DE LA LISTA N_Aleatorio LE APLICAMOS LA FUNCION Exponencial Y LO ASIGNAMOS A LA LISTA R2\n",
        "\n",
        "R2 = []\n",
        "\n",
        "for k in range (len(N_Aleatorio)):\n",
        "  R2.append(Exponencial(N_Aleatorio[k]))\n",
        "\n",
        "print(mean(R2))"
      ],
      "execution_count": null,
      "outputs": [
        {
          "output_type": "stream",
          "text": [
            "1.7181010288987193\n"
          ],
          "name": "stdout"
        }
      ]
    },
    {
      "cell_type": "markdown",
      "metadata": {
        "id": "eOMHo9pHsNwW"
      },
      "source": [
        "***EJEMPLO***\n",
        "\n",
        "Calcule el valor de la integral\n",
        "\n",
        "$$\\int_0^1 \\sqrt{x^2+1}\\cdot dx$$"
      ]
    },
    {
      "cell_type": "code",
      "metadata": {
        "colab": {
          "base_uri": "https://localhost:8080/"
        },
        "id": "5Z3ZmSABsm66",
        "outputId": "677b1187-d7fa-4da5-a7e7-495b88d30f75"
      },
      "source": [
        "#DEFINIMOS UNA FUNCION QUE REPRESENTE LA FUNCION MATEMATICA f(x) = sqrt(x^2+1)\n",
        "\n",
        "def f1 (Numero):\n",
        "  return ((Numero**2)+1)**(1/2)\n",
        "\n",
        "#VAMOS A REUTILIZAR LA LISTA N_Aleatorio DEL EJEMPLO ANTERIOR\n",
        "\n",
        "#A CADA UNO DE LOS ELEMENTOS DE LA LISTA N_Aleatorio LE APLICAMOS LA FUNCION f1 Y LO ASIGNAMOS A R3\n",
        "\n",
        "R3 = []\n",
        "\n",
        "for k2 in range (len(N_Aleatorio)):\n",
        "  R3.append(f1(N_Aleatorio[k2]))\n",
        "\n",
        "print(mean(R3))"
      ],
      "execution_count": null,
      "outputs": [
        {
          "output_type": "stream",
          "text": [
            "1.1477488922443022\n"
          ],
          "name": "stdout"
        }
      ]
    },
    {
      "cell_type": "markdown",
      "metadata": {
        "id": "eG7cRKHJtdQj"
      },
      "source": [
        "Si deseamos calcular\n",
        "$$\\int_a^b g(x)\\cdot dx = \\theta,\\text{ }a,b\\in \\mathbb R$$\n",
        "Entonces, al hacer la sustitución \n",
        "$$y = \\frac{x-a}{b-a}$$\n",
        "$$\\implies dy = \\frac{dx}{b-a}$$\n",
        "Por tanto\n",
        "$$\\theta = \\int_0^1g(a+[b-a]\\cdot y)\\cdot (b-a)\\cdot dy$$\n",
        "\n",
        "Llamamos, entonces, $h(y) = g(a+[b-a]\\cdot y)\\cdot (b-a)$.\n",
        "\n",
        "\n"
      ]
    },
    {
      "cell_type": "markdown",
      "metadata": {
        "id": "4nzXKbTPu3gX"
      },
      "source": [
        "***EJEMPLO***\n",
        "\n",
        "Calcule el valor de la integral\n",
        "\n",
        "$$\\int_{\\pi}^{\\pi+1}cos(x)\\cdot dx$$"
      ]
    },
    {
      "cell_type": "code",
      "metadata": {
        "colab": {
          "base_uri": "https://localhost:8080/"
        },
        "id": "rP_iXnPHvnsX",
        "outputId": "eca60732-643c-4348-8d63-e335bc7cd087"
      },
      "source": [
        "#DEFINIMOS UNA FUNCION QUE REPRESENTE LA FUNCION MATEMATICA cos(x) = f(x)\n",
        "\n",
        "def f2 (Numero):\n",
        "  from math import cos\n",
        "  return cos(Numero)\n",
        "\n",
        "#VAMOS A REUTILIZAR LA LISTA N_Aleatorio DEL EJEMPLO ANTERIOR\n",
        "\n",
        "#A CADA UNO DE LOS ELEMENTOS DE LA LISTA N_Aleatorio LE APLICAMOS LA FUNCION f2 Y LO ASIGNAMOS A R4\n",
        "\n",
        "R4 = []\n",
        "\n",
        "#IMPORTAMOS LA FUNCION pi\n",
        "\n",
        "from math import pi\n",
        "\n",
        "for k3 in range (len(N_Aleatorio)):\n",
        "  R4.append( (pi+1-pi)*f2(pi + ((pi+1-pi)*N_Aleatorio[k3])))\n",
        "\n",
        "print(mean(R4))"
      ],
      "execution_count": null,
      "outputs": [
        {
          "output_type": "stream",
          "text": [
            "-0.8415198319166234\n"
          ],
          "name": "stdout"
        }
      ]
    },
    {
      "cell_type": "markdown",
      "metadata": {
        "id": "o9sQeCKR3dD5"
      },
      "source": [
        "***EJEMPLO***\n",
        "\n",
        "Calcule el valor de la integral\n",
        "\n",
        "$$\\int_{10}^{15}xe^x\\cdot dx$$"
      ]
    },
    {
      "cell_type": "code",
      "metadata": {
        "colab": {
          "base_uri": "https://localhost:8080/"
        },
        "id": "RI4ATwQ43tk6",
        "outputId": "c635be52-25a1-4e29-f9bf-703f2423be0e"
      },
      "source": [
        "#DEFINIMOS UNA FUNCION QUE REPRESENTE LA FUNCION MATEMATICA f(x) = xe^x\n",
        "\n",
        "def f3 (Numero):\n",
        "  from math import e\n",
        "  return Numero*(e**Numero)\n",
        "\n",
        "#VAMOS A REUTILIZAR LA LISTA N_Aleatorio DEL EJEMPLO ANTERIOR\n",
        "\n",
        "#A CADA UNO DE LOS ELEMENTOS DE LA LISTA N_Aleatorio LE APLICAMOS LA FUNCION f3 Y LO ASIGNAMOS A R5\n",
        "\n",
        "R5 = []\n",
        "\n",
        "for k4 in range (len(N_Aleatorio)):\n",
        "  R5.append( (15-10)*f3(10 + (15-10)*N_Aleatorio[k4] ) )\n",
        "\n",
        "print(mean(R5))"
      ],
      "execution_count": null,
      "outputs": [
        {
          "output_type": "stream",
          "text": [
            "45551458.71553543\n"
          ],
          "name": "stdout"
        }
      ]
    },
    {
      "cell_type": "markdown",
      "metadata": {
        "id": "pKrLM_1Z8eYO"
      },
      "source": [
        "***EJEMPLO***\n",
        "\n",
        "Calcule el valor de la integral\n",
        "\n",
        "$$\\int_{-\\pi}^{e}sin(x)\\cdot dx$$"
      ]
    },
    {
      "cell_type": "code",
      "metadata": {
        "colab": {
          "base_uri": "https://localhost:8080/"
        },
        "id": "PCiLFK388uu5",
        "outputId": "66a2ec0a-9c59-4f8e-880f-6da6c221fbe0"
      },
      "source": [
        "#DEFINIMOS UNA FUNCION QUE REPRESENTE LA FUNCION MATEMATICA f(x) = tan(x)\n",
        "\n",
        "def f4 (Numero):\n",
        "  from math import sin\n",
        "  return sin(Numero)\n",
        "\n",
        "#VAMOS A REUTILIZAR LA LISTA N_Aleatorio DEL EJEMPLO ANTERIOR\n",
        "\n",
        "#A CADA UNO DE LOS ELEMENTOS DE LA LISTA N_Aleatorio LE APLICAMOS LA FUNCION f4 Y LO ASIGNAMOS A R6\n",
        "\n",
        "R6 = []\n",
        "\n",
        "from math import pi, e\n",
        "\n",
        "for k5 in range (len(N_Aleatorio)):\n",
        "  R6.append( ((e - (-pi))*f4( -pi + (e - (-pi))*N_Aleatorio[k5] ) ) )\n",
        "\n",
        "print(mean(R6))"
      ],
      "execution_count": null,
      "outputs": [
        {
          "output_type": "stream",
          "text": [
            "-0.08949972267847264\n"
          ],
          "name": "stdout"
        }
      ]
    },
    {
      "cell_type": "markdown",
      "metadata": {
        "id": "gcn__6IPAWxX"
      },
      "source": [
        "### Función propuesta para calcular un valor aproximado de la integral con límites $a,b\\in \\mathbb R$."
      ]
    },
    {
      "cell_type": "code",
      "metadata": {
        "id": "D1lbPmOqAiDs"
      },
      "source": [
        "def Valor_Integral_1 (Funcion_f,a,b):\n",
        "  '''\n",
        "  Esta funcion calcula un valor aproximado de la integral en los \n",
        "  limites a,b contenidos en los reales.\n",
        "\n",
        "  Se generan 10000000 numeros aleatorios con una distribucion uniforme\n",
        "  entre 0 y 1.\n",
        "\n",
        "  Si desea introducir las constantes pi y e en alguno de los limites se \n",
        "  necesita importar primero la funcion constante y luego anexarla como\n",
        "  argumento de la funcion Valor_Integral.\n",
        "\n",
        "  Funcion_f : Funcion f(x) que se evalua en la integral.\n",
        "\n",
        "  a : Limite inferior de la integral\n",
        "\n",
        "  b : Limite superior de la integral\n",
        "  '''\n",
        "  from random import uniform\n",
        "  from statistics import mean\n",
        "  Numeros_Aleatorios = []\n",
        "  for i in range (10000000):\n",
        "    Numeros_Aleatorios.append(uniform(0,1))\n",
        "  Resultado = []\n",
        "  for j in range (len(Numeros_Aleatorios)):\n",
        "    Resultado.append( (b-a)*Funcion_f( a + (b-a)*Numeros_Aleatorios[j] ) )\n",
        "  return mean(Resultado)"
      ],
      "execution_count": null,
      "outputs": []
    },
    {
      "cell_type": "markdown",
      "metadata": {
        "id": "of8U42lQG1SI"
      },
      "source": [
        "Si deseamos calcular el valor de $\\theta $ en\n",
        "\n",
        "$$\\int_0^{\\infty+}g(x)\\cdot dx$$\n",
        "\n",
        "Podríamos aplicar la sustitución $y = \\frac{1}{x+1}$ donde $dy = \\frac{-dx}{(x+1)^2}=-y^2\\cdot dx$, para obtener la identidad\n",
        "\n",
        "$$\\int_0^1 h(y)\\cdot dy$$\n",
        "\n",
        "Donde\n",
        "$$h(y) = \\frac{g\\left(\\frac{1}{y}-1 \\right)}{y^2}$$"
      ]
    },
    {
      "cell_type": "markdown",
      "metadata": {
        "id": "DypyDKEUKSza"
      },
      "source": [
        "### Función propuesta para calcular un valor aproximado de la integral con límite inferior 0 y límite superior infinito positivo"
      ]
    },
    {
      "cell_type": "code",
      "metadata": {
        "id": "XkiLCiteKcq7"
      },
      "source": [
        "def Valor_Integral_2 (Funcion_f):\n",
        "  '''\n",
        "  Esta funcion calcula un valor aproximado de la integral en los \n",
        "  limite inferior 0 y limite superior infinito positivo.\n",
        "\n",
        "  Se generan 10000000 numeros aleatorios con una distribucion uniforme\n",
        "  entre 0 y 1.\n",
        "\n",
        "  Si desea introducir las constantes pi y e en alguno de los limites se \n",
        "  necesita importar primero la funcion constante y luego anexarla como\n",
        "  argumento de la funcion Valor_Integral.\n",
        "\n",
        "  Funcion_f : Funcion f(x) que se evalua en la integral.\n",
        "  '''\n",
        "  from random import uniform\n",
        "  from statistics import mean\n",
        "  Numeros_Aleatorios = []\n",
        "  for i in range (10000000):\n",
        "    Numeros_Aleatorios.append(uniform(0,1))\n",
        "  Resultado = []\n",
        "  for j in range (len(Numeros_Aleatorios)):\n",
        "    Resultado.append( (Funcion_f( (1/Numeros_Aleatorios[j]) - 1 ))/(Numeros_Aleatorios[j]**2) )\n",
        "  return mean(Resultado)"
      ],
      "execution_count": null,
      "outputs": []
    },
    {
      "cell_type": "markdown",
      "metadata": {
        "id": "kZ9B3DpGR5mo"
      },
      "source": [
        "***EJEMPLO***\n",
        "\n",
        "Calcule el valor de la siguiente integral.\n",
        "\n",
        "*NOTA* : La integral converge.\n",
        "\n",
        "$$\\int_0^{\\infty+}e^{-\\frac{x}{3}}\\cdot dx$$"
      ]
    },
    {
      "cell_type": "code",
      "metadata": {
        "colab": {
          "base_uri": "https://localhost:8080/"
        },
        "id": "jcGsYHx8SHVn",
        "outputId": "3782aa83-ef6d-4249-d463-077a4d5a1a9b"
      },
      "source": [
        "def PW (Numero):\n",
        "  from math import e\n",
        "  return e**((-Numero)/3)\n",
        "\n",
        "print(Valor_Integral_2(PW))"
      ],
      "execution_count": null,
      "outputs": [
        {
          "output_type": "stream",
          "text": [
            "2.999361708097357\n"
          ],
          "name": "stdout"
        }
      ]
    },
    {
      "cell_type": "markdown",
      "metadata": {
        "id": "t85Rrf5ZSvm9"
      },
      "source": [
        "***EJEMPLO***\n",
        "\n",
        "Calcule el valor de la siguiente integral.\n",
        "\n",
        "*NOTA* : La integral converge.\n",
        "\n",
        "$$\\int_0^{\\infty+}x 2^{-x}\\cdot dx$$"
      ]
    },
    {
      "cell_type": "code",
      "metadata": {
        "colab": {
          "base_uri": "https://localhost:8080/"
        },
        "id": "aNcAjOHITEdE",
        "outputId": "1b899abf-d4a6-4632-94f6-60ef12c5b195"
      },
      "source": [
        "def QA (Numero):\n",
        "  return (Numero)*(2**(-Numero))\n",
        "\n",
        "print(Valor_Integral_2(QA))"
      ],
      "execution_count": null,
      "outputs": [
        {
          "output_type": "stream",
          "text": [
            "2.081289525058251\n"
          ],
          "name": "stdout"
        }
      ]
    },
    {
      "cell_type": "markdown",
      "metadata": {
        "id": "etODwqGNTU6W"
      },
      "source": [
        "***EJEMPLO***\n",
        "\n",
        "Calcule el valor de la siguiente integral.\n",
        "\n",
        "*NOTA* : La integral converge.\n",
        "\n",
        "$$\\int_0^{\\infty+}e^{-x}cos(x)\\cdot dx$$"
      ]
    },
    {
      "cell_type": "code",
      "metadata": {
        "colab": {
          "base_uri": "https://localhost:8080/"
        },
        "id": "QuSlNgtBT3_8",
        "outputId": "136d3985-501b-4112-f328-3e78833f0ac6"
      },
      "source": [
        "def AZ (Numero):\n",
        "  from math import e, cos\n",
        "  return (e**(-Numero))*cos(Numero)\n",
        "\n",
        "print(Valor_Integral_2(AZ))"
      ],
      "execution_count": null,
      "outputs": [
        {
          "output_type": "stream",
          "text": [
            "0.5002120905758838\n"
          ],
          "name": "stdout"
        }
      ]
    },
    {
      "cell_type": "markdown",
      "metadata": {
        "id": "r8TcVaOvgVWx"
      },
      "source": [
        "Supongamos que $g$ es una función de $\\mathbb R^n$ a $\\mathbb R$ y que queremos calcular\n",
        "\n",
        "$$\\int_0^1 \\int_0^1 \\cdots \\int_0^1 g\\left(x_1,\\ldots ,x_n \\right)\\cdot dx_1\\text{ } dx_2\\cdots dx_n $$\n",
        "\n",
        "La clave del método Monte Carlo para estimar $\\theta $ está en el hecho de que $\\theta $ se puede expresar mediante la siguiente esperanza\n",
        "\n",
        "$$\\theta = E[g\\left(U_1,\\ldots ,U_n \\right)]$$\n",
        "\n",
        "Donde $U_1,\\ldots ,U_n$ son variables aleatorias independientes y uniformes en $(0,1)$. Por lo tanto, si generamos $k$ conjuntos independientes, cada uno formado por $n$ variables aleatorias independientes y uniformes en (0,1)\n",
        "\n",
        "$$U_1^1,\\ldots ,U_n^1$$\n",
        "\n",
        "$$U_1^2,\\ldots ,U_n^2$$\n",
        "\n",
        "$$\\vdots$$\n",
        "\n",
        "$$U_1^k,\\ldots ,U_n^k$$\n",
        "\n",
        "entonces, como las variables aleatorias $g\\left(U_1^i,\\ldots ,U_n^i \\right),i = 1,\\ldots ,k$, son todas variables aleatorias independientes e idénticamente distribuidas con media $\\theta$, podemos estimar $\\theta$ mediante \n",
        "\n",
        "$$\\sum_{i=1}^k\\frac{g\\left(U_1^i,\\ldots ,U_n^i \\right)}{k}$$"
      ]
    },
    {
      "cell_type": "markdown",
      "metadata": {
        "id": "W-qxZCQlo_Hk"
      },
      "source": [
        "***EJEMPLO***\n",
        "\n",
        "Calcule el valor de la siguiente integral múltiple.\n",
        "\n",
        "$$\\int_0^1 \\int_0^1 x^2y\\cdot dxdy$$"
      ]
    },
    {
      "cell_type": "code",
      "metadata": {
        "colab": {
          "base_uri": "https://localhost:8080/"
        },
        "id": "-eWR4c3MluNq",
        "outputId": "e48a7fa5-1cfb-456e-d626-239bd83d846f"
      },
      "source": [
        "#DEFINIMOS DOS FUNCIONES, UNA FUNCION QUE REPRESENTE A f(x) Y OTRA QUE REPRESENTE A g(y).\n",
        "#RECORDEMOS QUE AL INTEGRAR DOBLE LA SEGUNDA LA VARIABLE ES TOMADA COMO CONSTANTE, POR LO TANTO\n",
        "#NUESTRAS FUNCIONES DEFINIDAS TIENEN QUE ESTAS MULTIPLICADAS POR ALGO QUE LLAMAREMOS constante.\n",
        "\n",
        "def funcion_x (Numero,constante):\n",
        "  return (Numero**2)*constante\n",
        "def funcion_y (Numero,constante):\n",
        "  return Numero*constante\n",
        "\n",
        "from random import uniform\n",
        "from statistics import mean\n",
        "\n",
        "#EN FUNCION DE LA TEORIA, COMO VAMOS A EJECUTAR DOS FUNCIONES ENTONCES NECESITAMOS DOS CONJUNTOS\n",
        "#DE NUMEROS PSEUDOALEATORIOS PARA CADA VARIABLE.\n",
        "\n",
        "k_aleatorios_1 = []\n",
        "\n",
        "for mq in range (10000000):\n",
        "  k_aleatorios_1.append(uniform(0,1))\n",
        "\n",
        "k_aleatorios_2 = []\n",
        "\n",
        "for mq2 in range (10000000):\n",
        "  k_aleatorios_2.append(uniform(0,1))\n",
        "\n",
        "#DEFINIMOS LA LISTA r DONDE ALMACENAREMOS LOS RESUTADOS DE CADA EJECUCION\n",
        "\n",
        "r = []\n",
        "\n",
        "#SEGUN LA INTEGRAL QUE VAMOS A CALCULAR PRIMERO INTEGRAMOS RESPECTO A LA VARIABLE x Y DESPUES\n",
        "#RESPECTO A LA VARIABLE y, POR LO TANTO PRIMERO NECESITAMOS SIMULAR TODOS LOS VALORES DE \n",
        "#LA INTEGRAL RESPECTO AL DIFERENCIAL DE x Y DESPUES DICHOS VALORES USARLOS PARA CALCULAR EL VALOR\n",
        "#DE LA INTEGRAL RESPECTO AL DIFERENCIAL y\n",
        "\n",
        "for res in range (len(k_aleatorios_1)):\n",
        "  #NOTE QUE PRIMERO LLAMAMOS A LA FUNCION y Y COMO CONSTANTE TOMAMOS EL RESULTADO DE LA FUNCION x\n",
        "  r.append( funcion_y( k_aleatorios_2[res] , funcion_x( k_aleatorios_1[res] , 1 ) ) )\n",
        "\n",
        "print(mean(r))"
      ],
      "execution_count": null,
      "outputs": [
        {
          "output_type": "stream",
          "text": [
            "0.16666955879600154\n"
          ],
          "name": "stdout"
        }
      ]
    },
    {
      "cell_type": "markdown",
      "metadata": {
        "id": "P5074M-0rPcI"
      },
      "source": [
        "***EJEMPLO***\n",
        "\n",
        "Calcule el valor de la siguiente integral múltiple.\n",
        "\n",
        "$$\\int_0^1 \\int_0^1 (e^x+x)y\\cdot dydx$$"
      ]
    },
    {
      "cell_type": "code",
      "metadata": {
        "colab": {
          "base_uri": "https://localhost:8080/"
        },
        "id": "Zk94-V-5rjA5",
        "outputId": "69d51745-015f-4eba-e01b-b424b86565f3"
      },
      "source": [
        "#DEFINIMOS UNA FUNCION PARA LA x Y OTRA PARA y\n",
        "\n",
        "def funcion_x1 (Numero,constante):\n",
        "  from math import e\n",
        "  return ((e**Numero)+Numero)*constante\n",
        "def funcion_y1 (Numero,constante):\n",
        "  from math import e\n",
        "  return Numero*constante\n",
        "\n",
        "#UTILIZAREMOS LAS DOS LISTAS DE NUMEROS PSEUDOALEATORIOS CREADAS EN EL EJEMPLO ANTERIOR\n",
        "\n",
        "#DEFINIMOS UNA LISTA QUE CONTENGA LOS RESULTADOS r2\n",
        "\n",
        "r2 = []\n",
        "\n",
        "#EN LA INTEGRAL PRIMERO INTEGRAMOS RESPECTO A y Y DESPUES A x\n",
        "\n",
        "for mo in range (len(k_aleatorios_1)):\n",
        "  r2.append( funcion_x1(k_aleatorios_1[mo], funcion_y1(k_aleatorios_2[mo],1) ) )\n",
        "\n",
        "print(mean(r2))"
      ],
      "execution_count": null,
      "outputs": [
        {
          "output_type": "stream",
          "text": [
            "1.1091907826214693\n"
          ],
          "name": "stdout"
        }
      ]
    },
    {
      "cell_type": "markdown",
      "metadata": {
        "id": "SiHS4cwXwPLj"
      },
      "source": [
        "***EJEMPLO***\n",
        "\n",
        "Calcule el valor de la siguiente integral múltiple.\n",
        "\n",
        "$$\\int_e^{e+1}\\int_{\\pi}^{\\pi+1}\\int_{-\\pi}^esin(x)cos(y)e^z\\cdot dxdydz$$"
      ]
    },
    {
      "cell_type": "code",
      "metadata": {
        "colab": {
          "base_uri": "https://localhost:8080/"
        },
        "id": "dSATZ-3JyBRp",
        "outputId": "40f38524-560d-452f-be9c-571a82d97cc7"
      },
      "source": [
        "#NECESITAMOS DEFINIR 3 FUNCIONES PARA CADA VARIABLE\n",
        "\n",
        "def fun_1 (Numero):\n",
        "  from math import sin\n",
        "  return sin(Numero)\n",
        "def fun_2 (Numero):\n",
        "  from math import cos\n",
        "  return cos(Numero)\n",
        "def fun_3 (Numero):\n",
        "  from math import e\n",
        "  return (e**Numero)\n",
        "\n",
        "#RECORDEMOS QUE CREAMOS UNA FUNCION QUE NOS AYUDA A CALCULAR EL VALOR APROXIMADO DE UNA INTEGRAL EN \n",
        "#LIMITES a,b CONTENIDOS EN LOS REALES\n",
        "\n",
        "from math import pi,e\n",
        "\n",
        "'''\n",
        "La logica de la siguiente solucion es que cuando integramos primero respecto a la variable x\n",
        "tenemos, en simulacion, un numero real, cuando integramos respecto a la variable Y tenemos\n",
        "de igual manera un numero real pero para seguir con la secuencia de la integracion necesitamos\n",
        "que el primer valor real obtenido de la integracion respecto a la variable x multiplique al \n",
        "valor obtenido de la integracion de la variable Y, asi por ultimo obtenemos el valor real\n",
        "de integrar por la variable z necesitamos multiplicarla por el producto de los numeros reales\n",
        "obtenidos anteriormente.\n",
        "\n",
        "Como el resultado de las dos integrales previas resueltas es una aproximacion al valor real\n",
        "es claro que la cantidad o forma de los decimales pueden hacer variar el resultado final en unos\n",
        "cuantos decimales, si usted ejecuta este codigo distintas veces no siempre obtendra un valor cercano\n",
        "al real, que es 1.93402... , a veces se tendra un valor como 2.1293, otras un valor de 1.9567\n",
        "esto sucede por el sesgo que se tiene por la aleatoridad de los numeros en cada ejecucion.\n",
        "'''\n",
        "\n",
        "RES_1 = Valor_Integral_1(fun_1,-pi,e)\n",
        "RES_2 = Valor_Integral_1(fun_2,pi,pi+1)*RES_1\n",
        "RES_3 = Valor_Integral_1(fun_3,e,e+1)*RES_2\n",
        "\n",
        "print(RES_3)"
      ],
      "execution_count": null,
      "outputs": [
        {
          "output_type": "stream",
          "text": [
            "1.9444082849315787\n"
          ],
          "name": "stdout"
        }
      ]
    }
  ]
}