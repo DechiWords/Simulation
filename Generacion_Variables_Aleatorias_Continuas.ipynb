{
  "nbformat": 4,
  "nbformat_minor": 0,
  "metadata": {
    "colab": {
      "name": "Generacion_Variables_Aleatorias_Continuas.ipynb",
      "provenance": [],
      "collapsed_sections": [],
      "authorship_tag": "ABX9TyNF00xDnFFLBG33Hz8IVemQ",
      "include_colab_link": true
    },
    "kernelspec": {
      "name": "python3",
      "display_name": "Python 3"
    },
    "language_info": {
      "name": "python"
    }
  },
  "cells": [
    {
      "cell_type": "markdown",
      "metadata": {
        "id": "view-in-github",
        "colab_type": "text"
      },
      "source": [
        "<a href=\"https://colab.research.google.com/github/DechiWords/Simulation/blob/main/Generacion_Variables_Aleatorias_Continuas.ipynb\" target=\"_parent\"><img src=\"https://colab.research.google.com/assets/colab-badge.svg\" alt=\"Open In Colab\"/></a>"
      ]
    },
    {
      "cell_type": "markdown",
      "metadata": {
        "id": "JVqsbknTyWVa"
      },
      "source": [
        "#Generación de variables aleatorias continuas"
      ]
    },
    {
      "cell_type": "markdown",
      "metadata": {
        "id": "xQDrALB8yfmm"
      },
      "source": [
        "Todas las técnicas para generar una variable aleatoria discreta tienen su análogo en el caso continuo."
      ]
    },
    {
      "cell_type": "markdown",
      "metadata": {
        "id": "OlSYQVzNydGe"
      },
      "source": [
        "## Algoritmo de la transformada inversa"
      ]
    },
    {
      "cell_type": "markdown",
      "metadata": {
        "id": "b8SIrQXTyk6k"
      },
      "source": [
        "Consideremos una variable aleatoria continua con función de distribución $F$. El método para generarla, llamado de la transformación inversa, se basa en la siguiente proposición."
      ]
    },
    {
      "cell_type": "markdown",
      "metadata": {
        "id": "Ta1M0XxXyvFL"
      },
      "source": [
        "**PROPOSICIÓN 2.3.1**.\n",
        "\n",
        "Sea $U$ una variable aleatoria uniforme en $(0,1)$. Para cualquier función de distribución continua $F$ que se pueda obtener su inversa, la variable aleatoria $X$ definida como\n",
        "\n",
        "$$X = F^{-1}\\left(U\\right)$$\n",
        "\n",
        "tiene distribución $F$.\n",
        "\n",
        "$F^{-1}$ se define como el valor de $x$ tal que $F(x) = u$."
      ]
    },
    {
      "cell_type": "markdown",
      "metadata": {
        "id": "5tc5rUytzLBQ"
      },
      "source": [
        "*Demostración*\n",
        "\n",
        "Sea $F_x$ la función de distribución y sea $X = F^{-1}(U)$.\n",
        "\n",
        "Notemos que $F_x(X) = P\\{X\\leq x\\} = \\{F^{-1}(U)\\leq x\\}$\n",
        "\n",
        "Como $F(X) es una función de distribución entonces es monótona y creciente.\n",
        "\n",
        "$$\\implies F_x(X) = P\\{F\\left(F^{-1}(U)\\right)\\leq F(x)\\}$$\n",
        "\n",
        "Pero $F(F^{-1}(U)) = U$\n",
        "\n",
        "$$\\implies F_x(X) = P\\{U\\leq F(x)\\} = F(x)$$\n",
        "\n",
        "Lo anterior es válido pues $U$ es uniforme en $(0,1)$."
      ]
    },
    {
      "cell_type": "markdown",
      "metadata": {
        "id": "7r_ado-j0Axe"
      },
      "source": [
        "La proposición anterior muestra entonces, que para generar una variable aleatoria $X$ a partir de la función de distribución continua $F$, generamos un número aleatorio $U$ y hacemos $X = F^{-1}(U)$."
      ]
    },
    {
      "cell_type": "markdown",
      "metadata": {
        "id": "we0Ne-6a0MHY"
      },
      "source": [
        "**Algoritmo**\n",
        "\n",
        "1. Generar $U\\sim U(0,1)$.\n",
        "\n",
        "2. Devolver $X = F^{-1}(U)$"
      ]
    },
    {
      "cell_type": "markdown",
      "metadata": {
        "id": "4DNtA4TA0bpH"
      },
      "source": [
        "**EJEMPLO**"
      ]
    },
    {
      "cell_type": "markdown",
      "metadata": {
        "id": "nLbZgPgl0ctm"
      },
      "source": [
        "Suponga que queremos generar una variable aleatoria $X$ con función de distribución \n",
        "\n",
        "$$F(x) = x^n, x\\in (0,1)$$"
      ]
    },
    {
      "cell_type": "markdown",
      "metadata": {
        "id": "JyRwFnGv0mUC"
      },
      "source": [
        "*Solución*"
      ]
    },
    {
      "cell_type": "markdown",
      "metadata": {
        "id": "VZW5vzZJ0ogQ"
      },
      "source": [
        "Hacemos $X = F^{-1}(U)$.\n",
        "\n",
        "Sí $X = F^{-1}(U)$ \n",
        "\n",
        "$$\\implies U = F(X) = x^n\\implies U = x^n\\implies x = U^{1/n}$$"
      ]
    },
    {
      "cell_type": "code",
      "metadata": {
        "id": "pIPOt3831Dp7"
      },
      "source": [
        "def Funcion_Ejemplo_1 (n):\n",
        "  from random import uniform\n",
        "  U = list(uniform(0,1) for i in range (n))\n",
        "  X = list((U[j])**(1/n) for j in range (n))\n",
        "  return X\n",
        "x = Funcion_Ejemplo_1(10000)"
      ],
      "execution_count": null,
      "outputs": []
    },
    {
      "cell_type": "code",
      "metadata": {
        "colab": {
          "base_uri": "https://localhost:8080/",
          "height": 351
        },
        "id": "4k1Y6PdR22R4",
        "outputId": "80e2cb26-8151-4aeb-ca45-24c69b05fe9d"
      },
      "source": [
        "import matplotlib.pyplot as plt\n",
        "import seaborn as sns\n",
        "\n",
        "#bins INDICA EL NUMERO DE INTERVALOS EN EL HISTOGRAMA\n",
        "#density = True INDICA QUE GRAFIQUE DENSIDAD DE PROBABILIDAD Y NO FRECUENCIAS\n",
        "plt.hist(x,edgecolor = 'black',bins = 16, density=True) \n",
        "plt.title(r'$F(x) = x^{1000}$')\n",
        "plt.ylabel('Densidad')\n",
        "plt.xlabel('Valores generados')\n",
        "\n",
        "sns.distplot(x,hist=False,color = 'red') #DIBUJA LA GRAFICA DE DENSIDAD\n",
        "\n",
        "plt.grid()\n",
        "plt.tight_layout()\n",
        "plt.savefig('Grafico.pdf',format='pdf')"
      ],
      "execution_count": null,
      "outputs": [
        {
          "output_type": "stream",
          "text": [
            "/usr/local/lib/python3.7/dist-packages/seaborn/distributions.py:2557: FutureWarning: `distplot` is a deprecated function and will be removed in a future version. Please adapt your code to use either `displot` (a figure-level function with similar flexibility) or `kdeplot` (an axes-level function for kernel density plots).\n",
            "  warnings.warn(msg, FutureWarning)\n"
          ],
          "name": "stderr"
        },
        {
          "output_type": "display_data",
          "data": {
            "image/png": "[encoded data removed]",
            "text/plain": [
              "<Figure size 432x288 with 1 Axes>"
            ]
          },
          "metadata": {
            "tags": [],
            "needs_background": "light"
          }
        }
      ]
    },
    {
      "cell_type": "markdown",
      "metadata": {
        "id": "XRcPsTwuZC3P"
      },
      "source": [
        "**EJEMPLO**"
      ]
    },
    {
      "cell_type": "markdown",
      "metadata": {
        "id": "uuTDfVWHZEAh"
      },
      "source": [
        "Si $X$ es una variable aleatoria exponencial de parámetro $\\lambda$, $\\lambda > 0$. Entonces su función de distribución es estrictamente creciente y está dada por\n",
        "\n",
        "$$\n",
        "F(x)= \\left\\{ \\begin{array}{lcc}\n",
        "             1-e^{-\\lambda \\cdot X} &   para  & x \\geq 0 \\\\\n",
        "             \\\\ 0 &  para & x < 0\n",
        "             \\end{array}\n",
        "   \\right.\n",
        "$$"
      ]
    },
    {
      "cell_type": "markdown",
      "metadata": {
        "id": "xRJpydzLZmcr"
      },
      "source": [
        "Entonces, $F^{-1}\\left(U\\right) = -\\frac{\\ln (1-U)}{\\lambda}$ y por lo tanto\n",
        "\n",
        "$$X = -\\frac{\\ln(1-U)}{\\lambda}$$"
      ]
    },
    {
      "cell_type": "code",
      "metadata": {
        "id": "ykV7WINNZ8Uq"
      },
      "source": [
        "def Funcion_Ejemplo_2 (n,lambda_i):\n",
        "  from random import uniform\n",
        "  from math import log\n",
        "  U = list(uniform(0,1) for i in range (n))\n",
        "  X = list( -(log(1-U[j]))/(lambda_i) for j in range (n))\n",
        "  return X\n",
        "x = Funcion_Ejemplo_2(10000,2)"
      ],
      "execution_count": null,
      "outputs": []
    },
    {
      "cell_type": "code",
      "metadata": {
        "colab": {
          "base_uri": "https://localhost:8080/",
          "height": 351
        },
        "id": "CosjZeiRaw6x",
        "outputId": "251e5fce-4fc3-45f5-f1e3-44c0ecf8a47d"
      },
      "source": [
        "#bins INDICA EL NUMERO DE INTERVALOS EN EL HISTOGRAMA\n",
        "#density = True INDICA QUE GRAFIQUE DENSIDAD DE PROBABILIDAD Y NO FRECUENCIAS\n",
        "plt.hist(x,edgecolor = 'black',bins = 13, density=True) \n",
        "plt.xlim(0,5)\n",
        "plt.title(r'$F(x) = 1-e^{-2\\cdot X}$')\n",
        "plt.ylabel('Densidad')\n",
        "plt.xlabel('Valores generados')\n",
        "\n",
        "sns.distplot(x,hist=False,color = 'red') #DIBUJA LA GRAFICA DE DENSIDAD\n",
        "\n",
        "plt.grid()\n",
        "plt.tight_layout()\n",
        "plt.savefig('Grafico.pdf',format='pdf')"
      ],
      "execution_count": null,
      "outputs": [
        {
          "output_type": "stream",
          "text": [
            "/usr/local/lib/python3.7/dist-packages/seaborn/distributions.py:2557: FutureWarning: `distplot` is a deprecated function and will be removed in a future version. Please adapt your code to use either `displot` (a figure-level function with similar flexibility) or `kdeplot` (an axes-level function for kernel density plots).\n",
            "  warnings.warn(msg, FutureWarning)\n"
          ],
          "name": "stderr"
        },
        {
          "output_type": "display_data",
          "data": {
            "image/png": "[encoded data removed]",
            "text/plain": [
              "<Figure size 432x288 with 1 Axes>"
            ]
          },
          "metadata": {
            "tags": [],
            "needs_background": "light"
          }
        }
      ]
    },
    {
      "cell_type": "markdown",
      "metadata": {
        "id": "9ckCP1gVqEbG"
      },
      "source": [
        "## Método de rechazo"
      ]
    },
    {
      "cell_type": "markdown",
      "metadata": {
        "id": "dWA0KonFqF1H"
      },
      "source": [
        "Suponga que tenemos un método para generar una variable aleatoria con función de densidad $g(x)$.\n",
        "\n",
        "Podemos utilizarlo como base para generar a partir de la distribución continua con función de densidad de $f(x)$ : Se genera $Y$ a partir de $g$ y luego se acepta este valor generado con una probabilidad proporcional a $\\frac{f(Y)}{g(Y)}$.\n",
        "\n",
        "En concreto, sea $c$ una constante tal\n",
        "\n",
        "$$\\frac{f(Y)}{g(Y)}\\leq c,\\forall Y$$"
      ]
    },
    {
      "cell_type": "markdown",
      "metadata": {
        "id": "2MRyGFgVEAYR"
      },
      "source": [
        "Los pasos a seguir son.\n",
        "\n",
        "|Paso|Descripción|\n",
        "|--|--|\n",
        "|1|Generar $Y$ con densidad $g$|\n",
        "|2|Generar un número aleatorio $U$|\n",
        "|3|Sí $U\\leq \\frac{f(Y)}{c\\cdot g(Y)}$ hacemos $X=Y$|\n",
        "|4|En caso contrario repites 1|"
      ]
    },
    {
      "cell_type": "markdown",
      "metadata": {
        "id": "zMLOL5wON1Dv"
      },
      "source": [
        "Vamos a tener a consideración los siguientes puntos.\n",
        "\n",
        "1. La variable aleatoria generada usando el método de aceptación y rechazo tiene densidad $f$.\n",
        "\n",
        "2. El número de iteraciones del algoritmo que se necesitan, es una variable aleatoria geométrica con media $c$."
      ]
    },
    {
      "cell_type": "markdown",
      "metadata": {
        "id": "K77gHSTPEfIH"
      },
      "source": [
        "**EJEMPLO**"
      ]
    },
    {
      "cell_type": "markdown",
      "metadata": {
        "id": "nzkiNhi7Ej4G"
      },
      "source": [
        "Emplee el método de rechazo para generar una variable aleatoria con función de densidad \n",
        "\n",
        "$$f(x) = 20x(1-x)^3$$\n",
        "\n",
        "Con $x\\in (0,1)$"
      ]
    },
    {
      "cell_type": "markdown",
      "metadata": {
        "id": "VAQ3GlmTEw9N"
      },
      "source": [
        "*Solución*"
      ]
    },
    {
      "cell_type": "markdown",
      "metadata": {
        "id": "ULuDqAd4E028"
      },
      "source": [
        "Notemos que la función de densidad es análoga a la distribución beta de la forma\n",
        "\n",
        "$$f(x) = \\frac{\\Gamma(\\alpha + \\beta)}{\\Gamma(\\alpha)\\cdot\\Gamma(\\beta)}\\cdot x^{\\alpha-1}\\cdot (1-x)^{\\beta-1}$$\n",
        "\n",
        "Con $x\\in (0,1)$."
      ]
    },
    {
      "cell_type": "markdown",
      "metadata": {
        "id": "IdJ0v_11FazX"
      },
      "source": [
        "Por ello tenemos que la variable aleatoria tiene una distribución $\\beta(2,4)$, pues $\\alpha-1 = 1, \\beta-1=3$."
      ]
    },
    {
      "cell_type": "markdown",
      "metadata": {
        "id": "cvRgzYS3FnAd"
      },
      "source": [
        "Determinamos el valor de $c$.\n",
        "\n",
        "Considere $g(x) = 1$ para $x\\in (0,1)$.\n",
        "\n",
        "Sí \n",
        "\n",
        "$$\\frac{f(x)}{g(x)}\\leq c\\implies \\frac{f(x)}{g(x)}=20x(1-x)^3\\leq c$$"
      ]
    },
    {
      "cell_type": "markdown",
      "metadata": {
        "id": "d_MppLi9GC8n"
      },
      "source": [
        "Este $c$ es el máximo de la función, por tanto mediante optimización tenemos que"
      ]
    },
    {
      "cell_type": "markdown",
      "metadata": {
        "id": "3zV_7W1iGIdv"
      },
      "source": [
        "$$\\frac{d}{dx}\\left(\\frac{f(x)}{g(x)} \\right) = 20x(-3(1-x)^2) + 20(1-x)^3$$\n",
        "\n",
        "Aplicamos el Teorema de Fermat\n",
        "\n",
        "$$\\implies 20x(-3(1-x)^2) + 20(1-x)^3 = 0$$\n",
        "\n",
        "$$\\implies x = 1, x = 1, x = \\frac{1}{4}$$\n",
        "\n",
        "Note que \n",
        "\n",
        "$$\\frac{d^2}{dx^2}\\left(\\frac{f(x)}{g(x)} \\right) = -240x^2+360x-120$$\n",
        "\n",
        "Del cual tenemos que la segunda derivada evaluada en $x = 1$ es 0, no podemos concluir que sea un mínimo local.\n",
        "\n",
        "La segunda derivada evaluada en $x = \\frac{1}{4}$ es negativo y no podemos concluir que sea mínimo local.\n",
        "\n",
        "Considerando $-\\frac{f(x)}{g(x)}$ tenemos que\n",
        "\n",
        "$$-\\frac{d^2}{dx^2}\\left(\\frac{f(x)}{g(x)} \\right) = 240x^2-360x+120$$\n",
        "\n",
        "Que evaluando en 1 tenemos 0, no podemos concluir que sea un máximo local de la función, sin embargo para $\\frac{1}{4}$ notamos que es mayor a 0 lo que nos indica que $1/4$ es un máximo local de la función $\\frac{f(x)}{g(x)}$."
      ]
    },
    {
      "cell_type": "markdown",
      "metadata": {
        "id": "Hdi2DrI5Ih1o"
      },
      "source": [
        "Como $1/4$ es un máximo local de $\\frac{f(x)}{g(x)}$ entonces note que se cumple $c = 20(1/4)(1-1/4)^3$\n",
        "\n",
        "$$\\implies \\frac{f(x)}{g(x)}\\leq \\frac{135}{64}$$\n",
        "\n"
      ]
    },
    {
      "cell_type": "markdown",
      "metadata": {
        "id": "dCT78TzQJFfu"
      },
      "source": [
        "$$\\implies \\frac{64}{135}\\cdot \\frac{f(x)}{g(x)}\\leq 1$$\n",
        "\n",
        "$$\\implies \\frac{64}{135}\\cdot \\frac{20x(1-x)^3}{1}\\leq 1$$\n",
        "\n",
        "$$\\implies \\frac{256}{27}\\cdot x\\cdot(1-x)^3\\leq 1$$"
      ]
    },
    {
      "cell_type": "markdown",
      "metadata": {
        "id": "YyaXfN6bOG_7"
      },
      "source": [
        "Además, el número de iteraciones tiene una media de $c \\approx 2.1$."
      ]
    },
    {
      "cell_type": "markdown",
      "metadata": {
        "id": "UNaxLR4KJ8fn"
      },
      "source": [
        "Así el procedimiento acoplado a nuestro problema es\n",
        "\n",
        "|Paso|Descripción|\n",
        "|--|--|\n",
        "|1|Generamos números aleatorios distribuidos uniformemente entre 0 y 1, $U_1,U_2$|\n",
        "|2|Sí $U_2\\leq \\frac{256}{27}\\cdot U_1\\cdot (1-U_1)^3$ hacemos $X = U_1$|\n",
        "|3|En caso contrario repites 1|"
      ]
    },
    {
      "cell_type": "code",
      "metadata": {
        "id": "uZplHgboR6H6"
      },
      "source": [
        "def Funcion_Ejemplo_3 (n):\n",
        "  from random import uniform\n",
        "  from statistics import mean\n",
        "  L = []\n",
        "  for i in range (n):\n",
        "    U1 = uniform(0,1)\n",
        "    U2 = uniform(0,1)\n",
        "    while U2 > (256/27)*U1*((1-U1)**3):\n",
        "      U1 = uniform(0,1)\n",
        "      U2 = uniform(0,1)\n",
        "    L.append(U1)\n",
        "  return [mean(L),L]"
      ],
      "execution_count": null,
      "outputs": []
    },
    {
      "cell_type": "code",
      "metadata": {
        "id": "KZXK3lb5LxJW"
      },
      "source": [
        "Simu = Funcion_Ejemplo_3(10000)"
      ],
      "execution_count": null,
      "outputs": []
    },
    {
      "cell_type": "code",
      "metadata": {
        "colab": {
          "base_uri": "https://localhost:8080/",
          "height": 336
        },
        "id": "gRpz8uyWTcjm",
        "outputId": "70944622-80ef-477d-fa67-7b368a2853ef"
      },
      "source": [
        "import matplotlib.pyplot as plt\n",
        "import seaborn as sns\n",
        "plt.hist(Simu[1],density = True,edgecolor = 'black',bins = 12)\n",
        "plt.text((1+0.6)/2,2,'Media '+str(Simu[0])[0:len('0.0000')] )\n",
        "sns.distplot(Simu[1],hist=False,color = 'red') #DIBUJA LA GRAFICA DE DENSIDAD"
      ],
      "execution_count": null,
      "outputs": [
        {
          "output_type": "stream",
          "text": [
            "/usr/local/lib/python3.7/dist-packages/seaborn/distributions.py:2557: FutureWarning: `distplot` is a deprecated function and will be removed in a future version. Please adapt your code to use either `displot` (a figure-level function with similar flexibility) or `kdeplot` (an axes-level function for kernel density plots).\n",
            "  warnings.warn(msg, FutureWarning)\n"
          ],
          "name": "stderr"
        },
        {
          "output_type": "execute_result",
          "data": {
            "text/plain": [
              "<matplotlib.axes._subplots.AxesSubplot at 0x7f93bd97b090>"
            ]
          },
          "metadata": {
            "tags": []
          },
          "execution_count": 4
        },
        {
          "output_type": "display_data",
          "data": {
            "image/png": "[encoded data removed]",
            "text/plain": [
              "<Figure size 432x288 with 1 Axes>"
            ]
          },
          "metadata": {
            "tags": [],
            "needs_background": "light"
          }
        }
      ]
    },
    {
      "cell_type": "markdown",
      "metadata": {
        "id": "8QmDkfPCOoQ7"
      },
      "source": [
        "Note que dada la nota 1 se cumple que la variable aleatoria generada tiene una densidad $f$ que comentamos es una beta con $\\alpha = 2$ y $\\beta = 4$."
      ]
    },
    {
      "cell_type": "code",
      "metadata": {
        "colab": {
          "base_uri": "https://localhost:8080/",
          "height": 336
        },
        "id": "m_YYi9RzONzd",
        "outputId": "73a3ef4d-d0e1-4c65-fb49-0341ce492597"
      },
      "source": [
        "from random import betavariate\n",
        "b = list(betavariate(2,4) for i in range (10000))\n",
        "plt.hist(b,density = True, bins = 12,edgecolor = 'black')\n",
        "sns.distplot(b,hist=False,color = 'red')"
      ],
      "execution_count": null,
      "outputs": [
        {
          "output_type": "stream",
          "text": [
            "/usr/local/lib/python3.7/dist-packages/seaborn/distributions.py:2557: FutureWarning: `distplot` is a deprecated function and will be removed in a future version. Please adapt your code to use either `displot` (a figure-level function with similar flexibility) or `kdeplot` (an axes-level function for kernel density plots).\n",
            "  warnings.warn(msg, FutureWarning)\n"
          ],
          "name": "stderr"
        },
        {
          "output_type": "execute_result",
          "data": {
            "text/plain": [
              "<matplotlib.axes._subplots.AxesSubplot at 0x7f93bde06350>"
            ]
          },
          "metadata": {
            "tags": []
          },
          "execution_count": 5
        },
        {
          "output_type": "display_data",
          "data": {
            "image/png": "[encoded data removed]",
            "text/plain": [
              "<Figure size 432x288 with 1 Axes>"
            ]
          },
          "metadata": {
            "tags": [],
            "needs_background": "light"
          }
        }
      ]
    },
    {
      "cell_type": "markdown",
      "metadata": {
        "id": "jPLWF_nBpGea"
      },
      "source": [
        "## Generación de un proceso Poisson homogéneo"
      ]
    },
    {
      "cell_type": "markdown",
      "metadata": {
        "id": "F-F147yspKrT"
      },
      "source": [
        "Los procesos de Poisson son procesos estocásticos de conteo del número de sucesos que ocurren, según una distribución de Poisson, a lo largo del tiempo. Se llama homogéneo pues los eventos tienen la misma probabilidad de ocurrir en todos los intervalos del mismo tamaño."
      ]
    },
    {
      "cell_type": "markdown",
      "metadata": {
        "id": "Nj54dLbcpTHj"
      },
      "source": [
        "De esta forma, se pueden representar, por ejemplo, llegadas de clientes a un establecimiento o llegadas de pedidos a un almacén."
      ]
    },
    {
      "cell_type": "markdown",
      "metadata": {
        "id": "wEbDg9_epZJ5"
      },
      "source": [
        "Suponga que queremos generar los primeros $n$ tiempos de evento de un proceso Poisson con razón $\\lambda$.\n",
        "Para esto aprovechamos el hecho de que los tiempos entre los eventos consecutivos de dicho proceso son variable aleatorias exponenciales independientes, cada una con razón $\\lambda$."
      ]
    },
    {
      "cell_type": "markdown",
      "metadata": {
        "id": "B4PRpREoptu6"
      },
      "source": [
        "Una forma de generar el procesos es generar estos tiempos entre llegadas.\n",
        "Así, si generamos $n$ números aleatorios $U_1,\\ldots,U_n$ y $X_i = -\\frac{1}{\\lambda}\\cdot \\log(U_i)$, entonces $X_i$ se puede considerar como el tiempo entre el $(i-1)$-ésimo y el $i$-ésimo evento en el proceso Poisson.\n",
        "\n",
        "Como el tiempo real del $j$-ésimo evento será igual a la suma de los primeros $j$ tiempos entre llegadas, los valores generados por los primeros $n$ tiempos de evento son \n",
        "\n",
        "$$\\sum_{i=1}^jX_I,j=1,\\ldots,n$$"
      ]
    },
    {
      "cell_type": "markdown",
      "metadata": {
        "id": "W5sflr5VqcM5"
      },
      "source": [
        "**Generación de las primeras $T$ unidades de tiempo de un proceso de Poisson con razón $\\lambda$**"
      ]
    },
    {
      "cell_type": "markdown",
      "metadata": {
        "id": "a8uKXSAnqjgN"
      },
      "source": [
        "|Paso|Descripción|\n",
        "|--|--|\n",
        "|1|$$t=0, I = 0$$|\n",
        "|2|Generamos $U$ distribuido uniformemente entre 0 y 1|\n",
        "|3|Hacemos $t = t - \\frac{1}{\\lambda}\\log(U)$|\n",
        "|4|Sí $t>T$ terminamos|\n",
        "|5|Sí $t\\leq T$ hacemos $I = I + 1, S(I) = t$|\n",
        "|6|Repetimos el paso 2|"
      ]
    },
    {
      "cell_type": "markdown",
      "metadata": {
        "id": "0W2oButArW-g"
      },
      "source": [
        "Con este algoritmo se generan todos los tiempos de eventos que ocurren en $(0,T)$ de un proceso Poisson con razón $\\lambda$.\n",
        "\n",
        "Donde $t$ se refiere al tiempo, $I$ es el número de eventos que han ocurrido hasta el instante $t$ y $S(I)$ es el tiempo del evento más reciente.\n",
        "\n",
        "El valor final de $I$ en el algoritmo anterior representa el número de eventos que ocurren hasta el instante $T$, y los valores $S(1),\\ldots,S(I)$ serán los $I$ tiempos de evento en orden creciente."
      ]
    },
    {
      "cell_type": "code",
      "metadata": {
        "id": "uxXd0swtr8sc"
      },
      "source": [
        "#LLAMAREMOS A LA FUNCION Pois\n",
        "\n",
        "def Pois_Hom (T,L):\n",
        "  from random import uniform\n",
        "  from math import log\n",
        "  S = []\n",
        "  t,I = 0,0\n",
        "  while True:\n",
        "    U = uniform(0,1)\n",
        "    t = t - (1/L)*log(U)\n",
        "    if t > T:\n",
        "      break\n",
        "    else:\n",
        "      I += 1\n",
        "      S.append(t)\n",
        "  return [S,I]"
      ],
      "execution_count": null,
      "outputs": []
    },
    {
      "cell_type": "code",
      "metadata": {
        "id": "aNcKOTfIvbYz"
      },
      "source": [
        "P = Pois_Hom(9,5)"
      ],
      "execution_count": null,
      "outputs": []
    },
    {
      "cell_type": "markdown",
      "metadata": {
        "id": "k5jCBsHjverS"
      },
      "source": [
        "Los $I$ tiempos de evento en orden creciente que ocurren en $(0,T)$ donde $T = 9$ a un proceso de Poisson con razón $\\lambda = 5$ son"
      ]
    },
    {
      "cell_type": "code",
      "metadata": {
        "colab": {
          "base_uri": "https://localhost:8080/"
        },
        "id": "lbdLV_ywJdlU",
        "outputId": "6ba20e54-e186-42ea-f98e-fddfe72db7d6"
      },
      "source": [
        "P[0]"
      ],
      "execution_count": null,
      "outputs": [
        {
          "output_type": "execute_result",
          "data": {
            "text/plain": [
              "[0.017110835542437565,\n",
              " 0.0638777061345997,\n",
              " 0.23983882055997593,\n",
              " 0.25301276141473206,\n",
              " 0.3568464831702742,\n",
              " 0.48597748555988085,\n",
              " 0.6578303845494046,\n",
              " 0.6941804312568355,\n",
              " 1.206417537031502,\n",
              " 2.4675813864125775,\n",
              " 2.8717703121648377,\n",
              " 2.893487673877337,\n",
              " 3.2053557931207672,\n",
              " 3.7420050552027924,\n",
              " 3.989238000551894,\n",
              " 4.18137960032843,\n",
              " 4.218936300999317,\n",
              " 4.359619641026453,\n",
              " 4.532923935275966,\n",
              " 4.53384253537441,\n",
              " 4.555975066319046,\n",
              " 4.742995807835663,\n",
              " 4.765185176571988,\n",
              " 4.966828291324093,\n",
              " 5.795783718496979,\n",
              " 6.1965192739838075,\n",
              " 6.489550476766008,\n",
              " 6.698406191827354,\n",
              " 6.850358733105538,\n",
              " 7.773131745554311,\n",
              " 7.854736764611459,\n",
              " 7.958664596710592,\n",
              " 8.024029146036982,\n",
              " 8.09267955092191,\n",
              " 8.337985097802052]"
            ]
          },
          "metadata": {
            "tags": []
          },
          "execution_count": 86
        }
      ]
    },
    {
      "cell_type": "markdown",
      "metadata": {
        "id": "MNBi2g5Yvvgd"
      },
      "source": [
        "El número de eventos, $I$, que ocurren hasta el instante $T = 9$ es "
      ]
    },
    {
      "cell_type": "code",
      "metadata": {
        "colab": {
          "base_uri": "https://localhost:8080/"
        },
        "id": "4KwmJ-zBvvSS",
        "outputId": "cba4b3f7-4a35-42f6-86da-77f06f582da6"
      },
      "source": [
        "P[1]"
      ],
      "execution_count": null,
      "outputs": [
        {
          "output_type": "execute_result",
          "data": {
            "text/plain": [
              "35"
            ]
          },
          "metadata": {
            "tags": []
          },
          "execution_count": 87
        }
      ]
    },
    {
      "cell_type": "markdown",
      "metadata": {
        "id": "OPsOkUHvD09B"
      },
      "source": [
        "## Generación de un proceso Poisson No Homogéneo"
      ]
    },
    {
      "cell_type": "markdown",
      "metadata": {
        "id": "WZj_suuqD39y"
      },
      "source": [
        "Desde el punto de vista de la modelación, la principal debilidad del proceso Poisson es la hipótesis de que los eventos tienen la misma probabilidad de ocurrir en todos los intervalos del mismo tamaño.\n",
        "\n",
        "Una generalización, que relaja esta hipótesis, conduce al llamado proceso no homogéneo o no estacionario."
      ]
    },
    {
      "cell_type": "markdown",
      "metadata": {
        "id": "cTsDLq8-ExMt"
      },
      "source": [
        "Los **Procesos de Poisson No Homogéneos (NHPP)** son procesos de Poisson pero de incrementos independientes.\n",
        "\n",
        "$$\\{N(t) : t\\geq0\\}$$"
      ]
    },
    {
      "cell_type": "markdown",
      "metadata": {
        "id": "72-iaC3IE-_C"
      },
      "source": [
        "donde $N(t)$ denota el número de «eventos» que ocurre en el instante $t$."
      ]
    },
    {
      "cell_type": "markdown",
      "metadata": {
        "id": "yfXJrnp-FFdq"
      },
      "source": [
        "Ellos se debe a que el número de ocurrencias de sucesos en un determinado intervalo, $N(t_2)-N(t_1)$ para $t_1 < t_2$ no sigue una distribución de Poisson de parámetro fijo.\n",
        "\n",
        "En su lugar, se tiene que para todo $t>0$ y para todo $s>0$\n",
        "\n",
        "$$N(s+t) - N(s)\\text{ es }\\rho \\left(m(s+t)-m(s)\\right)$$"
      ]
    },
    {
      "cell_type": "markdown",
      "metadata": {
        "id": "UQHY02zUFlbl"
      },
      "source": [
        "donde $\\rho$ denota la distribución Poisson."
      ]
    },
    {
      "cell_type": "markdown",
      "metadata": {
        "id": "38vkNT82Fo7j"
      },
      "source": [
        "A la función $m(t)$ se le denomina *función de valor medio* y se define de la siguiente manera\n",
        "\n",
        "$$m(t) = \\int_0^t\\lambda(u) \\cdot du$$"
      ]
    },
    {
      "cell_type": "markdown",
      "metadata": {
        "id": "fbMnOEHmGNsn"
      },
      "source": [
        "Siendo $\\lambda(t)$ la función de intensidad del proceso de Poisson. Es decir\n",
        "\n",
        "$$N(s+t) - N(s) \\text{ es }\\rho \\left(\\int_s^{s+t}\\lambda(u) \\cdot du \\right)=\\rho \\left(\\int_0^t \\lambda(s+u) \\cdot du\\right)$$"
      ]
    },
    {
      "cell_type": "markdown",
      "metadata": {
        "id": "qLMUVFmwGoSS"
      },
      "source": [
        "En particular, un proceso de poisson homogéneo (HPP) de media $\\lambda$ es un proceso de poisson no homogéneo (NHPP) con función de intensidad constante $\\lambda(t)=\\lambda$"
      ]
    },
    {
      "cell_type": "markdown",
      "metadata": {
        "id": "w7HFi107G4EQ"
      },
      "source": [
        "**PROPOSICIÓN**\n",
        "\n",
        "Suponga que se dispone de ocurrencias de sucesos según un HPP de media $\\lambda$ y que, independientemente, se realiza un sorteo en el que un suceso, ocurriendo en el instante $t$, puede ser «seleccionado» con probabilidad $p(t)$ o «no seleccionado» con probabilidad $1-p(t)$.\n",
        "\n",
        "Entonces, el proceso correspondiente a los instantes de los «sucesos seleccionados», es un NHPP con función de intensidad $\\lambda(t)=\\lambda p(t)$"
      ]
    },
    {
      "cell_type": "markdown",
      "metadata": {
        "id": "x1FoRTxocAnV"
      },
      "source": [
        "El procedimiento que se construye a partir de este resultado, denominado de *adelgazamiento (thinning method)* consiste en simular un HPP de media $\\lambda$ y seleccionar instantes con probabilidad $p(t) = \\frac{\\lambda(t)}{\\lambda}$ para simular un NHPP con función de intensidad $\\lambda(t) = \\lambda p(t)$"
      ]
    },
    {
      "cell_type": "markdown",
      "metadata": {
        "id": "xkBKBgLdciZJ"
      },
      "source": [
        "**NOTA**"
      ]
    },
    {
      "cell_type": "markdown",
      "metadata": {
        "id": "AchHymkXcjWo"
      },
      "source": [
        "Si se pretende simular instantes hasta $T$, se debe satisfacer que\n",
        "\n",
        "$$\\frac{\\lambda(t)}{\\lambda}\\leq 1,t\\in [0,T]\\implies \\lambda(t)\\leq\\lambda,t\\in[0,T]$$\n",
        "\n",
        "Entonces solo se podrá simular, por este procedimiento, los NHPP con función de intensidad $\\lambda(t)$ acotada."
      ]
    },
    {
      "cell_type": "markdown",
      "metadata": {
        "id": "V3zc9xKcc9w0"
      },
      "source": [
        "El siguiente algoritmo simula instantes entre 0 y $T$ según un NHPP con función de intensidad $\\lambda(t)\\leq\\lambda$ para todo $t\\in [0,T]$"
      ]
    },
    {
      "cell_type": "markdown",
      "metadata": {
        "id": "yS-MDc4zdQGI"
      },
      "source": [
        "\n",
        "\n",
        "```\n",
        "Hacer t = 0\n",
        "Hacer I = 0\n",
        "*Repetir*\n",
        "  Simular U_1 con Dist. Uniform. (0,1)\n",
        "  Hacer t = t - (ln(U_1)/Lambda)\n",
        "  Si t> T Entonces paramos, Termina el Si\n",
        "  Simulamos U_2 con Dist. Uniform. (0,1)\n",
        "  Si U_2 <= Lambda(t)/Lambda entonces\n",
        "  hacemos I += 1, S(I) = t, Termina el Si\n",
        "*Termina Repetir*\n",
        "```\n",
        "\n"
      ]
    },
    {
      "cell_type": "markdown",
      "metadata": {
        "id": "FkCLD-WNeHLe"
      },
      "source": [
        "**EJEMPLO**"
      ]
    },
    {
      "cell_type": "markdown",
      "metadata": {
        "id": "zkPLcjYseIMY"
      },
      "source": [
        "Se requiere generar un NHPP con $T = 9$ a la siguiente función de intensidad (en horas)"
      ]
    },
    {
      "cell_type": "markdown",
      "metadata": {
        "id": "rREjCPO_eyLU"
      },
      "source": [
        "$$f(t)= \\left\\{ \\begin{array}{lcc}\n",
        "             5+5t &   si  & 0\\leq t\\leq3 \\\\\n",
        "             \\\\ 20 &  si & 3< t\\leq 5 \\\\\n",
        "             \\\\ 20-2(t-5) &  si  & 5 < t \\leq 9\n",
        "             \\end{array}\n",
        "   \\right.$$\n",
        "\n",
        "Tomando $\\lambda = 20$"
      ]
    },
    {
      "cell_type": "markdown",
      "metadata": {
        "id": "OFMch6ttCCIa"
      },
      "source": [
        "*Solución*"
      ]
    },
    {
      "cell_type": "markdown",
      "metadata": {
        "id": "Bpk4jQHZh1qq"
      },
      "source": [
        "Para crear funciones partidas en Python usamos la función «piecewise» de NumPy.\n",
        "\n",
        "Sintaxis.\n",
        "\n",
        "```\n",
        "np.piecewise(x, logls, funls)\n",
        "```\n",
        "\n",
        "Donde $x$ es un arreglo que define la variable independiente, $logls$ una lista de condiciones lógicas para seccionar y definir los subintervalos, y $funls$ una lista de funciones o constantes que definen el valor de la función para el subintervalo correspondiente."
      ]
    },
    {
      "cell_type": "markdown",
      "metadata": {
        "id": "S5dWpSrtB_oO"
      },
      "source": [
        "Graficaremos la función partida dada"
      ]
    },
    {
      "cell_type": "code",
      "metadata": {
        "id": "8C2EXT50hKQX"
      },
      "source": [
        "import numpy as np\n",
        "t = np.linspace(0, 9) #ACOTAMOS EL DOMINIO A LOS REALES POSITIVOS\n",
        "\n",
        "y = np.piecewise(t, #EJE X\n",
        "                 [np.array((0<=t) & (t<=3)), #CONDICION FUNCION 1\n",
        "                  np.array((3<t) & (t<=5)), #CONDICION FUNCION 2\n",
        "                  np.array((5<t) & (t<=9))], #CONDICION FUNCION 3\n",
        "                 [lambda t: 5+5*t, #FUNCION 1\n",
        "                  lambda t: 20, #FUNCION 2\n",
        "                  lambda t: 20 - 2*(t-5)]) #FUNCION 3"
      ],
      "execution_count": null,
      "outputs": []
    },
    {
      "cell_type": "code",
      "metadata": {
        "colab": {
          "base_uri": "https://localhost:8080/",
          "height": 297
        },
        "id": "K6zA7st3j5ho",
        "outputId": "2895937e-23e0-4307-f3df-bdfc43ea8516"
      },
      "source": [
        "plt.plot(t,y)\n",
        "plt.title('Gráfica función partida')\n",
        "plt.tight_layout()"
      ],
      "execution_count": null,
      "outputs": [
        {
          "output_type": "display_data",
          "data": {
            "image/png": "[encoded data removed]",
            "text/plain": [
              "<Figure size 432x288 with 1 Axes>"
            ]
          },
          "metadata": {
            "tags": [],
            "needs_background": "light"
          }
        }
      ]
    },
    {
      "cell_type": "markdown",
      "metadata": {
        "id": "GloCqjeqCGAi"
      },
      "source": [
        "Diseñamos una función que varíe los valores del eje X pero mantenga las condiciones de la función partida dada."
      ]
    },
    {
      "cell_type": "code",
      "metadata": {
        "id": "RSJ0_CfvCNbj"
      },
      "source": [
        "def Ejemplo_F_P (x):\n",
        "  import numpy as np\n",
        "  return np.piecewise(x, #EJE X\n",
        "                 [np.array((0<=x) & (x<=3)), #CONDICION FUNCION 1\n",
        "                  np.array((3<x) & (x<=5)), #CONDICION FUNCION 2\n",
        "                  np.array((5<x) & (x<=9))], #CONDICION FUNCION 3\n",
        "                 [lambda x: 5+5*x, #FUNCION 1\n",
        "                  lambda x: 20, #FUNCION 2\n",
        "                  lambda x: 20 - 2*(x-5)]) #FUNCION 3"
      ],
      "execution_count": null,
      "outputs": []
    },
    {
      "cell_type": "markdown",
      "metadata": {
        "id": "-7Wt6e9eDymk"
      },
      "source": [
        "Definimos una función general"
      ]
    },
    {
      "cell_type": "code",
      "metadata": {
        "id": "gA2WrvIXd_52"
      },
      "source": [
        "def Pois_No_Hom (T,L_f,L):\n",
        "  from random import uniform\n",
        "  from math import log\n",
        "  t, I, S = 0, 0, []\n",
        "  while True:\n",
        "    U_1 = uniform(0,1)\n",
        "    t = t - (log(U_1)/L)\n",
        "    if t > T:\n",
        "      break\n",
        "    else:\n",
        "      U_2 = uniform(0,1)\n",
        "    if U_2 <= L_f(t)/L:\n",
        "      I += 1\n",
        "      S.append(t)\n",
        "  return [S,I]"
      ],
      "execution_count": null,
      "outputs": []
    },
    {
      "cell_type": "markdown",
      "metadata": {
        "id": "-2fbygQ-D76K"
      },
      "source": [
        "Graficamos un histograma del conjunto de datos y la función partida."
      ]
    },
    {
      "cell_type": "code",
      "metadata": {
        "id": "38Q-hTsUG5AS"
      },
      "source": [
        "Data = Pois_No_Hom(9,Ejemplo_F_P,20)"
      ],
      "execution_count": null,
      "outputs": []
    },
    {
      "cell_type": "markdown",
      "metadata": {
        "id": "rDriIcMNJjTo"
      },
      "source": [
        "El valor de $I$ es"
      ]
    },
    {
      "cell_type": "code",
      "metadata": {
        "colab": {
          "base_uri": "https://localhost:8080/"
        },
        "id": "obP7-fGCJi91",
        "outputId": "2accf497-9af5-4f0c-a81c-a9efdad890eb"
      },
      "source": [
        "Data[1]"
      ],
      "execution_count": null,
      "outputs": [
        {
          "output_type": "execute_result",
          "data": {
            "text/plain": [
              "141"
            ]
          },
          "metadata": {
            "tags": []
          },
          "execution_count": 88
        }
      ]
    },
    {
      "cell_type": "code",
      "metadata": {
        "colab": {
          "base_uri": "https://localhost:8080/",
          "height": 297
        },
        "id": "qR8l85XlC1xk",
        "outputId": "f0e88cb3-8b02-4818-b7d6-7306a6c2eec6"
      },
      "source": [
        "import matplotlib.pyplot as plt\n",
        "plt.hist(Data[0],edgecolor = 'black',alpha = 0.65)\n",
        "plt.plot(t,y,color = 'red')\n",
        "plt.tight_layout()"
      ],
      "execution_count": null,
      "outputs": [
        {
          "output_type": "display_data",
          "data": {
            "image/png": "[encoded data removed]",
            "text/plain": [
              "<Figure size 432x288 with 1 Axes>"
            ]
          },
          "metadata": {
            "tags": [],
            "needs_background": "light"
          }
        }
      ]
    }
  ]
}